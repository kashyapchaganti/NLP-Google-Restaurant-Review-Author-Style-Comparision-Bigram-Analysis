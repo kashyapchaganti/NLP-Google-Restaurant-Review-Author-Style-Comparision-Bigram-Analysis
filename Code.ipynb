{
 "cells": [
  {
   "attachments": {},
   "cell_type": "markdown",
   "id": "e32d5dc8",
   "metadata": {},
   "source": []
  },
  {
   "cell_type": "markdown",
   "id": "f1619201",
   "metadata": {},
   "source": [
    "# 1.  Choosing the data:  \n",
    "a)\tChoose existing large documents from NLTK or from the Gutenberg collection on the web, or\n",
    "b)\tCollect your own data, by using your own documents or collecting data from other sources.  Combine the text from these sources to make two documents for the corpora for the first task.  Describe the method that you used to define and collect the data, including the difference between the documents.  Note any limitations to the method or the text that you were able to find.  Do preprocessing to get the text in a suitable format for processing and describe what you did.\n",
    "\n",
    "Ans) I selected data from a dataset containing Google reviews  for restaurants in the USA. The dataset is in JSON format and is quite large. Parsing the data to extract the review data for two specific restaurants posed a significant challenge. My approach involved using the unique business_id to identify and merge the data related to the two restaurants. The goal was to analyze the top two restaurants with the highest number of reviews.\n",
    "\n",
    "To understand the structure and fields of the JSON object, I developed a JSON parser. This parser allowed me to examine the schema of the JSON file, which was crucial for further processing. With the schema in hand, I proceeded to identify the top two most reviewed restaurants based on their unique business_id.\n",
    "\n",
    "Finally, I created two arrays to store the reviews associated with each restaurant. These arrays served as the foundation for my subsequent analysis. \n"
   ]
  },
  {
   "cell_type": "code",
   "execution_count": 90,
   "id": "b43472a3",
   "metadata": {},
   "outputs": [
    {
     "name": "stdout",
     "output_type": "stream",
     "text": [
      "Business_id of top two restaurants\n",
      "['6043ad17b81264dfa846c9ea', '604245d6b9a6829e686e8c2a']\n"
     ]
    }
   ],
   "source": [
    "#preprocessing data and collecting two files \n",
    "import requests\n",
    "import json \n",
    " \n",
    "response = requests.get('https://datarepo.eng.ucsd.edu/mcauley_group/gdrive/googlelocal_restaurants/filter_all_t.json')\n",
    "response_json= json.loads(response.text)\n",
    "# print(response_json[\"train\"][0])\n",
    "dic= {};\n",
    "\n",
    "# Schema buildig\n",
    "\n",
    "for x in response_json[\"train\"]: \n",
    "    for k,v in x.items(): \n",
    "        \n",
    "        if(k==\"business_id\"):\n",
    "            if(v in dic):\n",
    "                a =dic[v]\n",
    "                dic[v]=a+1\n",
    "            else:\n",
    "                dic[v]=1\n",
    "            \n",
    "\n",
    "\n",
    "\n",
    "total_no_reviews=[]\n",
    "#highest reviewed places \n",
    "for k,v in dic.items(): \n",
    "    total_no_reviews.append(v)\n",
    "\n",
    "total_no_reviews.sort(reverse=True)\n",
    "\n",
    "\n",
    "\n",
    "#top_two would store the business_id of the two restaurants \n",
    "top_two=[]\n",
    "\n",
    "for k,v in dic.items(): \n",
    "    if(v==total_no_reviews[0] or v==total_no_reviews[1]):\n",
    "        top_two.append(k)\n",
    "\n",
    "#the below two lists will store all the reviews of first and second restaurants \n",
    "reviews_one=[]\n",
    "reviews_two=[]\n",
    "print(\"Business_id of top two restaurants\")\n",
    "print(top_two)\n",
    "#iterating the json object to retrieve all the reviews \n",
    "f1= False\n",
    "f2 =False\n",
    "\n",
    "for x in response_json[\"train\"]: \n",
    "    for k,v in x.items(): \n",
    "        \n",
    "        if(k==\"business_id\" and v==top_two[0]):\n",
    "            f1=True\n",
    "        elif (k==\"business_id\" and v==top_two[1]): \n",
    "            f2=True\n",
    "        elif(k==\"business_id\"):\n",
    "            f1=False\n",
    "            f2=False\n",
    "            break\n",
    "        if(f1==True and k==\"review_text\"): \n",
    "            f1=False\n",
    "            reviews_one.append(v)\n",
    "        if(f2==True and k==\"review_text\"): \n",
    "            f2=False\n",
    "            reviews_two.append(v)\n",
    "        \n",
    "first_review = []\n",
    "second_review = []\n",
    "\n",
    "# tokenization : processing the data the way we want i.e separated with all the words \n",
    "for i in range(len(reviews_one)):\n",
    "    x = reviews_one[i]\n",
    "    y = x.split(\" \")\n",
    "    for j in range(len(y)):\n",
    "        first_review.append(y[j])\n",
    "\n",
    "for i in range(len(reviews_two)):\n",
    "    x = reviews_two[i]\n",
    "    y = x.split(\" \")\n",
    "    for j in range(len(y)):\n",
    "        second_review.append(y[j])\n",
    "\n",
    "\n",
    "\n",
    "\n"
   ]
  },
  {
   "cell_type": "markdown",
   "id": "59039b96",
   "metadata": {},
   "source": [
    "# Preprocessing and Reasons for Preprocessing\n",
    "\n",
    "\n",
    "I chose the following processing options for the text data:\n",
    "\n",
    "1. Lowercase Conversion: Converting all words to lowercase helped me to standardize the text and treat words with different cases as the same word. It reduced the vocabulary size and ensured that words with the same meaning but different cases are treated as identical, improving the accuracy of subsequent analysis.\n",
    "\n",
    "2. Stopwords Removal:  The ccommonly occurring stop words (e.g., \"a,\" \"the,\" \"is\") that do not carry significant meaning and are often removed to focus on more informative words. By removing stopwords, I eliminated noise and reduced the dimensionality of the data, allowing me to focus on more relevant and meaningful words. I also added a few other stop words to remove the other words not provided by the nltk package. \n",
    "\n",
    "3. Lemmatization: Lemmatization reduces words to their base or root form, such as converting \"running\" to \"run\" or \"cats\" to \"cat.\" It helps to normalize the words and reduces the variation in word forms, enabling us to capture the essential meaning of words while reducing sparsity in the data. This can improve the accuracy of downstream tasks like text classification or topic modeling. So I just wanted to see the word in the most basic form as possible. \n",
    "\n",
    "To help the eliminate noise, standardize text, and focus on the most informative aspects of the data."
   ]
  },
  {
   "cell_type": "code",
   "execution_count": 71,
   "id": "deeb84b4",
   "metadata": {},
   "outputs": [
    {
     "name": "stdout",
     "output_type": "stream",
     "text": [
      "['Awesome', 'pizza', '(Original).', 'Hammer', 'Pizza', 'und', 'sie', 'schmeckt', 'einfach', 'kstlich.', 'Hammer', 'Pizza', 'and', 'it', 'just', 'tastes', 'delicious.', 'Also', 'wenn', 'man', 'in', 'New', 'York', 'ist', 'sollte', 'man', \"Joe's\", 'Pizza', 'probieren.', 'am', 'not', 'a', 'fan', 'of', 'pizza', 'but', 'like', 'the', 'pizza', 'from', 'here.', 'The', 'piece', 'is', 'large', 'and', 'with', 'lots', 'of', 'meats', 'on', 'top.', 'hate', 'pizza', 'with', 'thick', 'base)', 'love', 'how', 'they', 'also', 'provide', 'chilli', 'fakes', 'and', 'garlic', 'powder', 'to', 'put', 'on', 'top', 'because', 'love', 'garlic.', 'My', 'favorite', 'pepperoni', 'and', 'fresh', 'mozzarella', 'want', 'to', 'eat', 'again.', 'Eating', 'one', 'piece', 'is', 'unfortunate,', 'so', 'dont', 'worry,', 'eat', 'two', 'pieces.', 'Large', 'pieces', 'of', 'pizza', 'for', 'each', 'slice.', 'There', 'are', 'premade', 'pizzas', 'available', 'and', 'they', 'warm', 'them', 'up', 'before', 'serving', 'them.', \"It's\", 'great', 'pizza....be', 'sure', 'to', 'give', 'it', 'a', 'try', 'if', 'your', 'in', 'or', 'near', 'Times', 'Square.', 'The', 'pizza', 'got', 'had', 'spinach,', 'mozzarella', 'and', 'Pepperoni', 'which', 'were', 'so', 'good.', 'Very', 'good', 'place', 'to', 'take', 'a', 'piece', 'of', 'pizza', 'down', 'the', 'street.', 'Its', 'a', 'famous', 'place,', 'but', 'the', 'pizza', 'was', 'average', 'quality.', 'The', 'best', 'pizza', 'in', 'the', 'world', 'Fantastic', 'slice', 'of', 'pie.', 'Perfect', 'balance', 'of', 'cheese,', 'sauce,', 'and', 'dough.', 'Great', 'thin', 'crust', 'style', 'pizza.', 'This', 'definitely', \"isn't\", 'the', 'best', 'pizza', 'in', \"I'd\", 'personally', 'say', \"it's\", 'just', 'above', 'average', 'for', 'a', 'quick', 'slice.', 'This', 'is', 'no', 'Neapolitan', 'pizza,', 'that', 'is', 'for', 'sure.', 'So,', 'if', \"you're\", 'looking', 'for', 'a', 'mind', 'blowing', 'authentic', 'Italian', 'slice', 'this', \"isn't\", 'it.', 'still', 'think', 'of', 'this', 'pizza', 'How', 'can', 'you', 'complain', 'about', 'cheese', 'pizza', 'when', 'every', 'thing', 'else', 'around', 'New', 'York', 'City', 'starts', 'at', 'Best', 'slice', 'around,', 'the', 'line', 'can', 'get', 'quite', 'long', 'but', 'dont', 'be', 'deceived', 'this', 'pizza', 'oue', 'is', 'the', 'best', 'youre', 'going', 'to', 'find', 'around', 'the', 'Times', 'Square', 'are.', 'The', 'supreme', 'specialty', 'is', 'a', 'must.', 'The', 'drinks', 'selection', 'is', 'quite', 'allright', 'from', 'juices', 'to', 'sodas.', 'The', 'pizza', 'is', 'really', 'that', 'good.', 'Amazing', 'pizza.', 'Great', 'pizza,', 'not', 'a', 'lot', 'of', 'seating', 'but', 'the', 'pizza', 'is', 'worth', 'standing', 'for!', 'Best', 'pizza', 'in', 'Thin', 'crust,', 'delicious', 'cheese.', 'Cheese', 'pizza', \"won't\", 'dissapoint', 'Great', 'pizza.', 'It', 'was', 'really', 'the', 'best', 'pizza', 'had', 'in', 'New', 'York.', 'Very', 'thin', 'crust', 'and', 'soft', 'dough.', 'famous', 'pizzeria', 'that', 'became', 'a', 'model', 'for', 'the', 'movie', 'Spider-Man.', 'You', 'can', 'taste', 'hot', 'pizza', 'at', 'a', 'reasonable', 'price.', 'Everything', \"you'd\", 'want', 'from', 'a', 'Pizza', 'Joint', 'Quick', 'grab', 'by', 'the', 'slice', 'pizza', 'spot', 'famous', 'in', 'and', 'worth', 'the', 'line.', 'As', 'soon', 'as', 'we', 'arrived', 'in', 'the', 'city', 'we', 'made', 'a', 'beeline', 'for', 'as', 'is', 'tradition.', 'got', 'the', 'white', 'ricotta', 'and', 'a', 'plain', 'cheese', 'and', 'my', 'partner', 'got', 'pepperoni.', 'Not', 'only', 'was', 'the', 'taste', 'of', 'the', 'pies', 'great,', 'the', 'wait', 'was', 'short', 'even', 'though', 'it', 'was', 'busy', 'and', 'the', 'prices', 'were', 'awesome!', 'Best', 'Pizza', 'in', 'New', 'York', 'and', 'the', 'best', 'Pizza', 'on', 'the', 'east', 'coast', '', 'Great', 'tasting', 'slices,', 'fast', 'speeds', 'even', 'with', 'some', 'of', 'the', 'Times', 'Sq', 'crowd', 'that', 'comes', 'in', 'sometimes.', '(Original).', 'Buena', 'pizza.', 'Good', 'pizza', 'Good', 'attention.', 'After', 'trying', 'these', 'pizzas,', 'all', 'my', 'respect', 'to', 'the', 'Americans.', 'Enjoyed', 'the', 'caprese', 'pizza', 'and', 'pepperoni', 'pizza.', 'Nothing', 'makes', 'you', 'feel', 'like', 'youre', 'in', 'Ny', 'than', 'a', 'slice', 'of', 'Joes', 'However,', 'as', 'soon', 'as', 'you', 'place', 'an', 'order,', 'the', 'pizza', 'will', 'shorten', 'quickly.', 'And', 'it', 'was', 'so', 'delicious', 'that', 'only', 'had', 'one', 'piece', 'of', 'pizza', 'in', 'the', 'photo!', 'If', 'you', 'go', 'to', 'New', 'York,', 'you', 'want', 'to', 'eat', 'another', 'pizza.', 'Great', 'Pizza', 'joint', 'a', 'few', 'blocks', 'away', 'from', 'Times', 'Square.', 'What', 'great', 'pizza!', 'The', 'crispy', 'crust', 'and', 'thin', 'slices', 'make', 'for', 'a', 'delicious', 'meal.', 'The', 'white', 'pizza', 'is', 'also', 'very', 'good.', 'The', 'most', 'anticipated', 'pizza', 'place', 'near', 'times', 'square', 'where', 'you', 'will', 'find', 'a', 'line', 'of', 'people', 'trying', 'to', 'get', 'a', 'slice', 'during', 'all', 'times', 'of', 'the', 'day.', 'Attend', 'very', 'fast,', 'normal', 'pizza,', 'do', 'not', 'think', \"it's\", 'as', 'great', 'as', 'they', 'say', 'Got', 'spinach', 'and', 'mozzarella.', 'Try', 'cheese', 'slice.', 'One', 'of', 'the', 'best', 'New', 'York', 'Style', 'pizzas', 'ever', 'taste.', 'The', 'pictures', 'in', 'the', 'walls', 'wit', 'a', 'lot', 'of', 'celebrity', 'confirm', 'that.', 'With', 'the', 'Covid-19', 'you', 'cant', 'eat', 'inside', 'but', 'the', 'guys', 'keep', 'it', 'real', 'and', 'make', 'something', 'to', 'eat', 'and', 'go', 'outside', 'that', 'was', 'cool.', 'Fresh', 'food', 'here', 'people', 'is', 'not', 'frozen', 'pizza.', 'Legit', 'the', 'flavor', 'and', 'consistency', 'went', 'days', 'in', 'a', 'row.', 'Now', \"it's\", 'not', 'pizza', 'have', 'ever', 'had', 'or', 'anything', 'but', 'its', 'definitely', 'up', 'there.', 'The', 'pizza', 'is', 'very', 'We', 'went', 'to', 'eat', 'here', 'for', 'the', 'SpiderMan', 'movie.', 'And', 'we', 'liked', 'the', 'pizza', 'a', 'lot', 'The', 'best', 'pizza', \"I've\", 'had', 'so', 'far,', 'recommend', 'the', 'basil', 'There', 'were', 'a', 'lot', 'of', 'pizza', 'types', 'and', 'it', 'was', 'good', 'because', 'it', 'was', 'not', 'expensive!', 'Their', 'white', 'pizza', 'and', 'supreme', 'pizza', 'is', 'delicious', 'and', 'the', 'quick', 'service', 'is', 'really', 'fast.', 'Great', 'pizza', 'shop', 'on', 'Broadway!', 'Delicious', 'pizza,', 'Maybe', 'the', 'best', 'en', 'recomended', 'cheese', 'pizza!!', 'The', 'pepperoni', 'is', 'also', 'great', 'but', 'the', 'cheese', 'is', 'by', 'far', 'the', 'best', \"I've\", 'ever', 'had.', 'Delicious', 'pizza!', 'No', 'wonder', 'the', 'place', 'is', 'so', 'famous,', 'they', 'have', 'many', 'kinds', 'of', 'delicious', 'pizza', 'and', '', 'with', 'a', 'quick', 'service.', 'Rich', 'pizza', 'Extremely', 'good', 'pizza.', 'Not', 'very', 'spacious,', 'be', 'prepared', 'to', 'eat', 'standing.', 'But', \"it's\", 'hard', 'to', 'call', 'the', 'best', 'pizza', 'in', 'New', 'York;)', 'Amazing,', 'quite', 'possibly', 'some', 'of', 'the', 'best', 'pizza', 'in', 'Lots', 'of', 'great', 'options', 'for', 'vegetarians,', 'recommend', 'the', 'plain', 'one,', 'with', 'just', 'cheese', 'and', 'tomato', 'sauce', 'as', 'the', 'one', 'to', 'get', 'followed', 'by', 'one', 'of', 'the', 'white', 'pies.', 'Really', 'awesome', 'pizza.', 'Very', 'good', 'pizza', 'with', 'good', 'muzzarela', 'cheese.', 'like', 'my', 'pizza', 'more', 'crasty', 'but', 'was', 'satisfied.', '(Original).', 'Excelente', 'pizza!', 'Excellent', 'pizza!', 'Heard', 'a', 'lot', 'about', \"Joe's\", 'Pizza', 'but', 'more', 'than', 'lived', 'up', 'to', 'the', 'hype.', 'Ordered', 'a', 'New', 'York', 'slice', 'and', 'supreme', 'and', 'both', 'were', 'delicious.', 'The', 'base', 'was', 'crispy', 'and', 'thin', 'and', 'the', 'toppings', 'were', 'light', 'and', 'flavorful.', 'Service', 'was', 'quick', 'and', 'easy', 'and', 'we', 'got', 'our', 'Pizza', 'with', 'little', 'fuss.', 'Very', 'good', 'pizza!', 'Service', 'is', 'also', 'great', 'and', 'love', 'that', 'the', 'serve', 'Coke', 'products.', 'Nice', 'ratio', 'of', 'thinness', 'and', 'a', 'little', 'crisp...with', 'good', 'flavor..', 'thing', 'is', 'next', 'day', 'we', 'came', 'back', 'again', 'and', 'the', 'crispness', 'of', 'the', 'slice', 'is', 'not', 'the', 'same', 'anymore..', 'still', 'a', 'must', 'in', 'new', 'york', '(Original).', 'Lekkere', 'en', 'zeer', 'verse', 'pizza!!!!!!', 'Tasty', 'and', 'very', 'fresh', 'pizza', 'The', 'best', 'pizza', 'we', 'have', 'eaten', 'in', 'America!', 'nice', 'thin', 'slice.', 'Very', 'good', 'place', 'to', 'eat', 'the', 'typical', 'pizza.', 'The', 'taste', 'of', 'the', 'pizzas', 'is', 'great.', 'You', 'can', 'eat', 'it', 'standing', 'on', 'one', 'side', 'or', 'ask', 'it', 'to', 'go.', 'El', 'gusto', 'de', 'las', 'pizzas', 'es', 'genial.', 'Another', 'great', 'pizza', 'spot,', 'this', 'on', 'on', 'Broadway.', 'Either', 'way,', 'youll', 'love', 'the', 'pizza.', 'By', 'the', 'slice', 'or', 'a', 'whole', 'pizza', 'to', 'order.', 'Pizza', 'was', 'amazing!', 'Tasty', 'pizza,', 'legendary', 'location.', 'Typical', 'American', 'pizza.', 'personally', 'prefer', 'Italian', 'pizzas.', 'Busy', 'place', '(line', 'moves', 'quickly)', 'but', 'a', 'delicious', 'slice!', 'This', 'is', 'a', 'very', 'good', 'New', 'York', 'Pizza.', \"I'm\", 'from', 'Boston', 'and', 'my', 'very', 'favorite', 'pizza', 'in', 'the', 'world', 'is', \"Regina's\", 'in', 'the', 'North', 'end', 'of', 'Boston', 'which', 'is', 'why', \"I'm\", 'very', 'stingy', 'with', 'five', 'Stars.', 'Too', 'much', 'hype', 'for', 'an', 'average', 'pizza!', 'Umm..', \"don't\", 'get', 'me', 'wrong,', 'the', 'pizza', 'was', 'ok', 'but', 'for', 'a', 'slice?', 'Fast', 'paced', 'by', 'the', 'slice', 'goodness!', 'One', 'or', 'if', 'not,', 'the', 'best', 'pizza', \"I've\", 'ever', 'had,', 'very', 'picturesque', 'place', 'This', 'pizza', 'really', 'is', 'one', 'of', 'the', 'best', 'pizzas', 'Ive', 'tasted!', 'The', 'pepperoni', 'and', 'white', 'pizza', 'were', 'both', 'very', 'good', 'and', 'it', 'was', 'quick.', 'Big', 'greasy', 'slices', 'served', 'fast', 'on', 'paper', 'plates.', 'Amazing', 'pizza!', 'Only', 'had', 'one', 'type', 'of', 'pizza', 'to', 'offer.', 'Pizza', 'by', 'the', 'slice', 'or', 'whole', 'pies.', 'One', 'of', 'the', 'Best', 'pizza', 'spots', 'in', 'New', 'York', 'city', 'love', 'this', 'place.', 'really', 'liked', 'this', 'pizza.', 'pizza', 'is', 'one', 'of', 'my', 'favorites.', 'know', 'yummy', 'pizza', 'when', 'taste', 'it.', 'the', 'grape', 'soda', '', 'was', 'really', 'good', 'as', 'well.', \"Joe's\", 'is', 'a', 'star', 'because', 'it', 'is', 'a', 'top', 'new', 'York', 'slice', 'for', 'me.', 'My', 'numbers', 'and', 'require', 'you', 'buy', 'a', 'whole', 'pie', 'so', 'by', 'the', 'slice,', \"Joe's\", 'is', 'This', 'is', 'strictly', 'for', 'a', 'classic', 'slice.', \"haven't\", 'tried', 'any', 'other', 'slices', 'here.', 'Good', 'pizza,', 'very', 'busy', 'and', 'crowded', 'but', 'line', 'goes', 'fast.', 'Eleven', 'pm', 'and', \"there's\", 'a', 'line...this', 'is', 'a', 'good', 'slice', 'of', 'pie!', 'The', 'pizzas', 'are', 'good', 'the', 'place', 'is', 'small', 'for', 'so', 'many', 'people', 'They', 'have', 'huge', 'slices', 'of', 'pizza', 'at', 'a', 'great', 'price.', 'Average', 'pizza.', 'personally', 'liked', 'pizza', 'had', 'the', 'day', 'before', 'better.', 'The', 'dough', 'is', 'crispy', 'and', 'the', 'American', 'pizza', 'is', 'delicious.', 'It', 'does', 'always', 'seems', 'to', 'be', 'busy', 'but', 'things', 'are', 'quick', 'and', 'youll', 'get', 'your', 'pizza', 'slice', 'in', 'no', 'time.', 'Average', 'cost', 'per', 'slice', 'is', 'about', 'give', 'or', 'take.', 'Best', 'slice', 'ever', 'Mmmmmm', 'could', 'eat', 'all', 'day', 'Great', 'Pizza,', 'Fast', 'Service,', \"don't\", 'let', 'the', 'line', 'scare', 'you,', 'it', 'moves', 'The', 'quintessential', 'New', 'York', 'slice.', 'Perfect', 'crust,', 'simply', 'good', 'pizza.', 'An', 'institution', 'in', 'times', 'Square', 'for', 'a', 'quick', 'and', 'tasty', 'slice', 'of', 'pizza', 'so', 'many', 'tastes', 'available', \"It's\", 'over', 'hyped', 'pizza', 'for', 'tourists.', \"It's\", 'a', 'solid', 'slice', 'but', 'nothing', 'special.', 'You', 'can', 'easily', 'pay', 'for', 'people', 'for', 'roughly', 'and', 'that', 'including', 'two', 'slices', 'per', 'person', 'with', 'a', 'drink.', 'Very', 'nice', 'pizzeria', 'at', 'the', 'heart', 'of', 'new', 'York', 'city.', \"don't\", 'like', 'pizza', 'very', 'much', 'but', \"didn't\", 'expect', 'much', 'but', \"it's\", 'really', 'delicious.', 'Very', 'good', 'pizzas', 'at', 'a', 'very', 'reasonable', 'price!', '(Original).', 'Super', 'leckere', 'Pizza', 'und', 'sehr', 'coole', 'Location.', 'Super', 'delicious', 'pizza', 'and', 'very', 'cool', 'location.', 'If', 'you', 'like', 'pizza', 'you', 'should', 'definitely', 'visit', \"Joe's\", 'Pizza.', 'This', 'pizzeria', 'may', 'well', 'be', 'called', 'an', 'institution', 'in', 'Times', 'Square.', 'Wer', 'Pizza', 'mag', 'sollte', 'unbedingt', \"Joe's\", 'Pizza', 'einen', 'Besuch', 'abstatten.', 'Diese', 'Pizzeria', 'kann', 'wohl', 'als', 'eine', 'Institution', 'am', 'Times', 'Square', 'bezeichnet', 'werden.', 'Piece', 'of', 'pizza', 'can', 'eat', 'cheaply', 'The', 'taste', 'seems', 'to', 'be', 'less', 'than', 'the', 'pizza', 'ate', 'in', 'Sulgangpo', 'got', 'three', 'pies', 'of', 'cheese', 'pizza', 'four', 'pies', 'of', 'pizza', 'and', 'two', 'pieces', 'of', 'man', 'Best', 'pizza', 'in', 'the', 'world,', 'flew', 'from', 'Argentina', 'and', 'knew', 'where', 'had', 'to', 'eat.', 'This', 'pizza', 'was', 'so', 'good.', 'Excellent', 'pizza!!!', 'If', 'you', 'are', 'looking', 'for', 'an', 'authentic', 'style', 'pizza....this', 'is', 'the', 'place!!', 'Super', 'busy,', 'but', 'was', 'worth', 'the', 'wait,', 'a', 'real', 'slice', 'of', '', 'The', 'pizza', 'itself', 'is', 'not', 'the', 'best', 'but', 'just', 'being', 'in', 'that', 'iconic', 'atmosphere,', 'makes', 'the', 'experience', 'phenomenal.', 'Great', 'pizza.', \"It's\", 'cheap,', 'but', 'taste', 'good..', 'thin', 'pizza', 'with', 'a', 'strong', 'flavour..', 'Small', 'busy', 'place,', 'ideal', 'for', 'a', 'few', 'portions', 'of', 'tasty', 'pizzas.', 'Four', 'portions', 'of', 'pizza', 'and', 'a', 'bottle', 'of', 'water,', 'for', 'about', 'The', 'walls', 'are', 'full', 'of', 'photographs', 'of', 'celebrities', 'who', 'have', 'come', 'to', 'the', 'pizzeria.', 'Cuatro', 'porciones', 'de', 'pizza', 'y', 'botella', 'de', 'agua,', 'por', 'unos', 'Las', 'paredes', 'estan', 'llenas', 'de', 'fotografas', 'de', 'famosos', 'que', 'han', 'acudido', 'a', 'la', 'pizzeria.', 'Its', 'a', 'must', 'to', 'stop', 'by', 'and', 'eat', 'a', 'slice', 'Of', 'pizza', 'in', 'the', 'heart', 'Of', 'The', 'place', 'is', 'small', 'but', 'the', 'pizza', 'is', 'totally', 'worthy', 'it', '', 'Best', 'pizza', 'in', 'New', 'York!', 'The', 'pizza', 'was', 'good,', 'the', 'best', 'ever', 'had.', 'Perfectly', 'cooked', 'with', 'crispy', 'crusts.', 'It', 'was', 'dollars', 'a', 'slice', 'but', 'the', 'slices', 'were', '2x', 'as', 'big', 'as', 'your', 'regular', 'slices.', 'Pair', 'with', 'coke', 'or', 'any', 'other', 'refreshing', 'drink', 'and', 'enjoy!', '(Original).', 'Excelente', 'pizza!!', 'Excellent', 'pizza', 'Great,', 'piping', 'hot', 'pizza', 'that', 'stays', 'hot', 'minutes', 'into', 'eating.', 'The', 'crust', 'is', 'super', 'crisp.', 'The', 'pizza', 'is', 'good!!', 'Great', 'example', 'of', 'nyc', 'pizza', 'no', 'complaints,', 'the', 'staff', 'was', 'great,', 'the', 'pizza', 'was', 'amazing!!', 'Not', 'alot', 'of', 'seating', 'so', 'best', 'of', 'luck', 'lol', 'Awesome', 'pizza!', 'Exquisite', 'pizza.', 'They', 'are', 'all', 'very', 'good,', 'especially', 'the', '\"White\"', 'and', 'the', 'margarita.', 'Typical', 'New', 'York', 'pizza', 'in', 'all', 'its', 'essence.', 'Pizza', 'tpica', 'neoyorquina', 'en', 'toda', 'su', 'esencia.', 'The', 'New', 'York', 'pizza', 'as', 'seen', 'in', 'the', 'movies,', 'huge,', 'steaming', 'and', 'really', 'delicious.', 'if', 'then', 'add', 'two', 'iced', 'beers', 'taken', 'from', 'the', 'Pharmacy', 'in', 'front', '(can', 'of', 'Coors,', 'Colorado', 'lager,', 'from', '710ml', 'to', '2dollari', 'cadauna)', 'make', 'dinner', 'for', 'the', 'greatest!', 'se', 'poi', 'aggiungete', 'due', 'birre', 'ghiacciate', 'prese', 'dal', 'Pharmacy', 'di', 'fronte', 'lattina', 'di', 'Coors,', 'lager', 'del', 'Colorado,', 'da', '710ml', 'a', '2dollari/cadauna)', 'fate', 'cena', 'alla', 'grandissima!', 'Delicious', 'New', 'York', 'Style', 'pizza', 'that', 'is', 'definitely', 'worth', 'the', 'wait.', 'Brutal', 'pizzas', 'Yummmy', 'pizza', '', 'really', 'like', 'it...so', 'fresh', 'and', 'really', 'feel', 'like', 'you', 'eating', 'italian', 'pizza...', 'Sometimes', 'simplicity', 'is', 'all', 'you', 'need,', 'and', \"Joe's\", 'Pizza', 'delivers.', 'thin,', 'crispy', 'crust,', 'gooey', 'cheese,', 'fresh', '(ever', 'so', 'slightly', 'chunky)', 'tomato', 'sauce,', 'and', 'savory', 'pepperoni.', 'Delicious', 'pizza.', 'Solid', 'variety.', 'One', 'of', 'the', 'best', 'pizzas', 'in', 'This', 'may', 'be', 'more', 'of', 'a', 'nuanced', 'or', 'critical', 'review', 'simply', 'due', 'to', 'the', 'fact', 'that', 'expectations', 'run', 'high', 'for', 'New', 'York', 'pizza', 'in', 'New', 'York.', 'The', 'pizza', \"isn't\", 'bad,', \"don't\", 'get', 'me', 'wrong,', \"it's\", 'just', 'not', 'great.', \"don't\", 'know', 'how', 'to', 'explain', 'it,', 'it', \"wasn't\", 'bad,', 'it', 'was', 'good', 'pizza,', 'but', 'something', 'seemed', 'to', 'be', 'missing.', 'Awesome', 'staff,', 'very', 'welcoming', 'and', 'you', 'can', 'see', 'all', 'the', 'action', 'going', 'on,', 'the', 'skill', 'behind', 'the', 'best', 'pizza', 'in', 'The', 'pizzas', 'themselves', 'are', 'full', 'of', 'flavour', 'and', 'the', 'base', 'is', 'incredible,', 'some', 'folks', \"don't\", 'eat', 'the', 'crust', 'but', 'this', 'part', 'is', 'just', 'as', 'special,', 'a', 'little', 'pizza', 'base', 'dipping', 'sauce', 'would', 'be', 'mega', 'to', 'top', 'it', 'off.', \"Don't\", 'stop', 'at', 'one', 'or', 'two', 'slices,', 'arrive', 'hungry', 'and', 'try', 'it', 'all.', 'Delicious', 'pizza!', 'had', 'the', 'cheese', 'and', 'the', 'caprese.', 'Nice', 'big', 'slices', 'that', 'barely', 'fit', 'on', 'the', 'little', 'greasy', 'paper', 'plates,', 'and', 'needed', 'to', 'be', 'folded', 'to', 'be', 'eaten,', 'as', 'it', 'should', 'be.', 'With', 'obvious', 'pepperoni!', 'Para', 'comer', 'al', 'paso', 'y', 'probar', 'un', 'slice', 'de', 'esos', 'que', 'vimos', 'en', 'todas', 'las', 'series!', 'Con', 'pepperoni', 'obvio!', 'Worst', 'place', 'to', 'eat', 'found', 'a', 'short', 'hair', 'in', 'my', 'pizza', 'have', 'long', 'hair', 'had', 'to', 'try', 'the', 'famous', \"Joe's\", 'Pizza', 'and', 'was', 'not', 'disappointed.', 'This', 'pizza', 'deserves', 'its', 'opinions', 'and', 'even', 'always', 'long', 'queue', 'did', 'not', 'discourage', 'me', 'from', 'going', 'there', 'again', 'and', 'again', 'The', 'pizza', 'slices', 'are', 'just', 'excellent', 'and', 'really', 'cheap', 'at', 'all.', 'Les', 'slices', 'de', 'pizza', 'sont', 'justes', 'excellentes', 'et', 'vraiment', 'pas', 'cher', 'du', 'tout.', 'Of', 'course,', 'best', 'pizza', 'ever!', 'Had', 'a', 'great', 'time', 'munching', 'on', 'a', 'Pepperoni', 'pie.', \"It's\", 'not', 'designed', 'to', 'be', 'the', 'most', 'gourmet', 'pizza,', 'but', 'it', 'was', 'a', 'yummy', 'slice', 'and', 'spending', 'bucks', 'to', 'get', 'a', 'whole', 'pizza', 'filling', 'up', 'men', 'is', 'well', 'worth', 'it.', 'It', 'was', 'good', 'for', 'some', 'late', 'night', 'pizza!', 'Delicious', 'pizza,', \"I'm\", 'coming', 'back', \"Joe's\", 'Pretty', 'good', 'pizza,', 'Id', 'recommend', 'to', 'go', 'in', 'the', 'afternoon', 'when', 'the', 'pizza', 'is', 'fresh,', 'closer', 'to', 'dark', 'hours', 'they', 'get', 'a', 'bit', 'cold,', 'he', 'does', 'reheat', 'in', 'the', 'oven.', 'Hugely', 'popular', 'for', 'slices.', 'Oh,', \"don't\", 'forget', 'to', 'try', 'the', 'deep', 'dish', 'slices', 'Pizza', 'is', 'not', 'nice', 'at', 'all.', 'Had', 'pepperoni', 'and', 'white', 'and', 'both', 'were', 'so', 'delicious.', 'Pepperoni', 'had', 'a', 'very', 'moderate', 'amount', 'of', 'saltiness,', 'and', 'would', 'say', 'that', 'this', 'is', 'what', 'New', 'York', 'Pizza', 'says', 'about', 'this', 'taste.', 'White', 'has', 'ricotta', 'cheese', 'on', 'top', 'of', 'cheese', 'toppings,', 'which', 'is', 'a', 'crystal', 'of', 'lightness.', 'Great', 'pizza,', 'truly', 'new', 'York', 'style', 'Excellent', 'pizza', 'from', 'this', 'pizza', 'chain', 'originally', 'from', 'New', 'York!', 'recommend', 'the', 'cheese', 'that', 'is', 'the', 'classic', 'site.', 'Loved', 'this', 'pizza!', 'Big', 'piece,', 'crispy', 'and', 'delicious!', '(Original).', 'Pizzas', 'muy', 'ricas', 'y', 'crujientes.', 'Pizzas', 'very', 'rich', 'and', 'crispy.', 'Very', 'little', 'variety', 'of', 'pizzas', 'the', 'truth,', 'and', 'the', 'flavors', 'leave', 'a', 'lot', 'to', 'be', 'desired.', 'You', 'can', 'get', 'better', 'pizza', 'at', 'most', 'local', 'suburban', 'places', 'across', 'the', 'country.', 'Great', 'pizza', 'the', 'best', 'of', 'my', 'life', 'fresh', 'basil', 'and', 'mozzy', 'fraiche', 'yummie', 'Proper', 'Slice!', 'can', 'still', 'smell', 'the', 'delicious', 'Pepperoni!', 'Thin,', 'crisp', 'base', 'with', 'classic', 'toppings.', 'Hot', 'and', 'tasty', '(though', 'personally', 'prefer', 'neapolitan', 'crusts).', 'They', 'should', 'have', 'written', 'explanations', 'of', 'the', 'different', 'toppings.', 'Very', 'yummy', 'pizza.', 'Best', 'pizza', 'spot', 'in', 'Decent', 'pizza,', 'very', 'busy.', 'must', 'classic', 'thin', 'crust', 'New', 'York', 'style', 'pizza!', 'Even', 'if', \"you're\", 'not', 'a', 'pizza', 'fan,', \"Joe's\", 'Pizza', 'will', 'make', 'you', 'think', 'again.', 'Pizza', 'is', 'life.', 'Then', \"there's\", \"Joe's\", 'pizza,', 'a', 'bite', 'of', 'heaven', 'in', 'city', 'Of', 'course', \"couldn't\", 'be', 'in', 'New', 'York', 'and', 'not', 'have', 'at', 'least', 'one', 'night', 'of', 'pizza', 'for', 'dinner.', 'Staying', 'in', 'Midtown', 'had', 'to', 'Google', 'the', 'best', 'pizza', 'place', 'around', 'and', \"Joe's\", 'Pizza', 'was', 'the', 'top', 'of', 'the', 'list', 'Bar', 'None.', 'got', 'a', 'slice', 'of', 'pepperoni', 'and', 'my', 'mom', 'got', 'a', 'slice', 'of', 'cheese.', 'Not', 'going', 'to', 'say', \"it's\", 'the', 'best', 'pizza', 'ever', 'had', 'in', 'my', 'life...', 'Not', 'to', 'mention', 'there', 'was', 'a', 'picture', 'of', 'Carrie', 'Bradshaw', 'on', 'the', 'wall', 'and', 'that', 'immediately', 'had', 'me', 'excited.', 'would', 'recommend', 'as', 'the', 'pizza', 'was', 'fresh..', 'yummy...', 'And', 'cheap!', 'Nothing', 'but', 'hype', 'pizza', \"wasn't\", 'that', 'great', '(Original).', 'Pizza', 'eccezionale,', 'anche', 'a', 'New', 'York,', '', 'da', 'non', 'crederci...vedevamo', 'sempre', 'una', 'lunga', 'coda', 'che', 'non', 'potevano', 'non', 'provarla...very', 'good!!', 'Outstanding', 'pizza,', 'even', 'in', 'New', 'York,', 'you', \"can't\", 'believe', 'it', 'we', 'always', 'saw', 'a', 'long', 'queue', 'that', \"couldn't\", 'fail', 'to', 'prove', 'it', 'very', 'good', 'Super', 'popular', 'pizza', 'place', 'in', 'New', 'York!', 'Exquisite', 'pizza', 'The', 'prices', 'for', 'portions', 'are', 'based', 'on', 'Tastes,', 'average', 'of', 'dollars.', 'Exquisita', 'pizza', '', 'Los', 'precios', 'por', 'porciones', 'son', 'en', 'funcion', 'de', 'Los', 'gustos,', 'promedio', 'de', 'dolares.', 'Amazing', 'pizza!', 'Perfect', 'place', 'for', 'a', 'quick', 'and', 'delicious', 'slice!', 'Best', 'pizza!', 'Fresh', 'tomato', 'sauce,', 'nice', 'thin', 'crust,', 'pretty', 'good', 'ingredients.', 'One', 'of', 'NYCs', 'best', 'slices.', 'One', 'of', 'the', 'strongest', 'pizza', 'in', 'New', 'York.', 'Very', 'tasty', 'and', 'satiated.', 'And', 'ate', 'it', 'more', 'than', 'once.', 'But', 'the', 'staff', 'unfortunately', 'not', 'serviced.', 'Because', 'to', 'whom', 'did', 'you', 'ask', 'if', 'the', 'meat', 'was', 'pork', 'or', 'not?', 'The', 'best', 'New', 'York', 'slice', 'during', 'my', 'visit.', 'The', 'crust,', 'the', 'sauce,', 'and', 'the', 'cheese', 'was', 'everything', 'had', 'hoped', 'for.', 'Great', 'pizza.', 'Super', 'nice', 'staff', 'and', 'wonderful', 'pizza!', 'This', 'is', 'the', 'gold', 'standard', 'for', 'the', 'revered', 'style', 'pizza.', 'Definitley', 'a', 'proper', 'place', 'to', 'have', 'a', 'style', 'pizza!', 'Compare', 'to', 'the', 'pizza', 'in', 'here,', 'Sbarro', 'that', 'kind', 'of', 'things', 'are', 'rubbish.', \"It's\", 'a', 'typical', 'New', 'York', 'style', 'pizza', 'with', 'a', 'thin', 'dough', 'and', 'a', 'light,', 'slightly', 'painted', 'topping.', \"It's\", 'not', 'a', 'classic', 'pizza', 'baked', 'in', 'a', 'charcoal', 'oven,', 'but', 'considering', 'the', 'cost', 'performance,', 'it', 'might', 'be', 'one', 'of', 'the', 'best', 'pizza', 'places.', 'The', 'dough', 'is', 'different', 'for', 'pepperoni', 'pizza', 'and', 'basil', 'pizza.', \"It's\", 'a', 'pizza', 'that', 'care', 'about', 'that', 'much.', 'Excelente', 'pizzeria.', '', 'a', 'must', 'visit.', 'Pizza', 'is', 'great,', 'prices', 'are', '\"normal', 'considering', 'this', 'is', 'New', 'York', 'Pizza', 'is', 'always', 'great,', 'but', 'nothing', 'special', 'can', 'say', 'about', 'this', 'one.', 'Delicious', 'pizza', 'we', 'went', 'twice', 'on', 'our', 'visit', 'to', 'New', 'York.', 'The', 'most', 'amazing', 'pizza', 'my', 'husband', 'and', 'have', 'ever', 'ate', 'like', 'Ill', 'never', 'be', 'able', 'to', 'pizza', 'the', 'same', 'again.', 'We', 'went', 'to', 'a', 'couple', 'pizza', 'places', 'and', 'Joes', 'pizza', 'was', 'absolutely', 'the', 'best', 'had', 'the', 'cheese', 'and', 'the', 'spinach', 'and', 'both', 'were', 'just', 'perfect', 'my', 'husbands', 'favorite', 'was', 'the', 'pepp', 'and', 'cheese.', 'My', 'husband', 'is', 'already', 'planning', 'to', 'try', 'and', 'make', 'this', 'pizza', 'since', 'we', 'live', 'in', 'Ohio.', 'Tried', 'the', 'cheese,', 'pepp,', 'and', 'caprese.', 'Really', 'good', 'pizza,', \"didn't\", 'expect', 'it.', 'The', 'pizza', 'is', 'so', 'yummy', 'we', 'had', 'to', 'go', 'back', 'a', 'second', 'night', 'WoooooW.', 'You', 'have', 'to', 'try', 'it', 'its', 'really', 'one', 'of', 'the', 'best', 'pizza', 'you', 'will', 'eat', 'ever', '(Original).', 'Uma', 'das', 'melhores', 'pizzas', 'de', 'Manhattan,', 'a', 'melhor', 'da', 'Broadway.', 'One', 'of', 'the', 'best', 'pizzas', 'in', 'Manhattan,', 'the', 'best', 'on', 'Broadway.', 'Our', 'first', 'New', 'York', 'pizza', 'and', 'boy', 'was', 'it', 'got', 'the', 'pepperoni', 'and', 'my', 'boyfriend', 'got', 'the', 'margarita.', 'Both', 'delicious.', \"Joe's\", 'is', 'a', 'machine', 'that', 'processes', 'one', 'thing:', 'some', 'of', 'the', 'best', 'pizza', 'slices', 'in', 'town.', 'The', 'pizza', 'from', \"Joe's\", 'is', 'unarguably', 'one', 'of', 'the', 'most', 'delicious', 'thin', 'crust', 'slices', \"you'll\", 'ever', 'have.', 'Great', 'pizza,', 'quick', 'service', 'even', 'when', 'full,', 'friendly', 'staff', 'The', 'New', 'York', 'style', 'pizza', 'is', 'truly', 'worth', 'it..', 'Especially', 'you', 'may', 'have', 'slices', 'instead', 'of', 'ordering', 'a', 'complete', 'pizza', 'if', 'you', 'are', 'alone', '(Original).', 'Pizza', 'muito', 'boa.', 'Pizza', 'very', 'good.', 'Yummy', 'Great', 'style', 'pizza.', 'Slices', 'are', 'huge.', 'Only', 'downside', 'was', 'that', 'the', 'pizza', 'base', 'was', 'slightly', 'burnt', 'Best', 'pizza', 'in', 'Pizza', 'tasted', 'absolutely', 'amazing.', 'The', 'slices', 'are', 'huge', 'and', 'fresh.', 'One', 'slice', 'could', 'be', 'enough', 'for', 'one', 'person.', 'Margherita', 'is', 'my', 'favourite.', 'Amazing', 'pizza!!!!!', 'best', 'pizza', 'in', 'nyc', 'a', 'must', 'have', 'wile', 'there', 'For', 'my', 'first', 'slice', 'of', '', 'it', 'was', 'definitely', 'worth', 'the', 'walk.', 'Maybe', 'my', 'favorite', 'slice', 'ever.', 'am', 'a', 'pizza', 'chef.', \"I've\", 'been', 'to', 'many', 'pizzerias', 'in', 'New', 'York.', 'Please', 'enjoy', 'pepperoni.', 'Great', 'slices,', 'a', 'perfect', 'balance', 'of', 'cheese,', 'sauce', 'and', 'the', 'perfect', 'flexible', 'but', 'crunchy', 'base.', 'Do', 'not', 'miss', 'this', 'place', 'if', 'you', 'want', 'to', 'taste', 'the', 'authentic', 'pizza', 'slice.', 'The', 'place', 'is', 'very', 'small', 'and', 'there', 'may', 'not', 'be', 'space', 'to', 'sit,', 'but', 'the', 'pizza', 'is', 'super', 'fresh', 'and', 'delicious.', 'The', 'slices', 'are', 'big', 'enough', 'to', 'be', 'full', 'with', 'just', 'one', 'slice', '(at', 'least', 'for', 'me).', 'They', 'had', 'a', 'selection', 'of', 'several', 'pizzas', 'and', 'as', 'a', 'vegetarian,', 'chose', 'spinach', 'pizza,', 'which', 'was', 'super', 'yummy!', 'Even', 'if', \"you're\", 'long,', \"you're\", 'out.', 'It', 'is', 'delicious', 'if', 'we', 'eat', 'without', 'expectation', 'feel', 'its', 'a', 'hyped', 'place', 'for', 'pizzas', 'but', 'still', 'better', 'than', 'few', 'pizzas', 'have', 'had', 'and', 'okayish', 'if', 'compared', 'with', 'few', 'pizzas', 'have', 'had', 'till', 'now.', 'was', 'disappointed', 'as', 'a', '1st', 'time', 'patron', 'of', 'this', 'pizza', 'joint.', 'As', 'you', 'can', 'see', 'from', 'the', 'photo,', 'it', 'was', 'burnt', 'in', 'all', 'the', 'wrong', 'places', 'and', 'the', 'crust', 'was', 'very', 'course', 'tough...as', 'if', 'they', 'used', 'old', 'dough.', 'They', 'delivered', 'burnt', 'pizza', 'without', 'the', 'toppings', 'requested', 'and', 'it', 'was', 'room', 'temperature.', 'The', 'pizza', 'is', 'very', 'rich', 'but', 'do', 'not', 'think', 'it', 'is', 'the', 'best', 'in', 'thought', 'the', 'pizza', 'was', 'good', 'but', 'not', 'really', \"'all\", \"that'.\", 'Omg', 'great', 'pizza.', 'Especially', 'the', 'ricotta', 'pizza', '', 'The', 'pizza', 'was', 'thin', 'and', 'crunchy', 'and', 'cheesey!', 'The', 'margarita', 'pizza', 'was', 'also', 'fresh', 'and', 'delicious!', 'The', 'perfect', 'quintessential', 'New', 'York', 'Pizza', 'slice', 'The', 'best', 'pizza', 'in', 'the', 'city.', 'Great', 'pizza.', 'Therere', 'limited', 'seatings', 'in', 'store', 'so', 'we', 'have', 'the', 'pizza', 'at', 'Bryant', 'Park.', 'Comvel', 'no', 'one', 'makes', 'pizza', 'like', 'in', 'Brazil', 'Delicious', 'pizzas', 'Pepperoni,', 'Supreme', 'and', 'Quattro', 'Cheese', 'Pizza', 'was', 'a', 'bit', 'spicy,', 'but', 'Supreme', 'and', 'Quattro', 'Pizza', 'were', 'very', 'delicious.', 'Even', 'though', 'ate', 'at', 'the', 'hotel', 'minutes', 'after', 'packing,', 'the', 'dough', 'was', 'chewy', 'and', 'the', 'cheese', 'was', 'alive.', 'Personally,', 'only', 'ate', 'Supreme', 'Pizza,', 'but', 'felt', 'that', \"Greenwich's\", \"Joe's\", 'Pizza', 'was', 'more', 'delicious.', 'Still', 'the', 'best', 'pizza', 'place', 'to', 'eat', 'late', 'at', 'dawn.', 'However', 'while', 'the', 'pizza', 'was', 'extremely', 'delicious,', \"wouldn't\", 'find', 'myself', 'spending', 'dollars', 'for', 'a', 'slice', 'of', 'pepperoni.', 'find', 'spending', 'dollars', 'for', 'three', 'slices', 'rather', 'unnecessary', 'Instant', 'hot', 'pizzas', 'perform', 'well', 'to', 'grow', 'thin', 'dough.', 'Aside', 'from', 'being', 'a', 'bit', 'edgy,', 'the', 'pizza', 'was', 'delicious', 'and', 'it', 'was', 'worth', 'the', '15-minute', 'queue.', 'Aparte', 'de', 'que', 'fue', 'un', 'poco', 'borde,', 'la', 'pizza', 'estaba', 'buensima', 'y', 'mereci', 'la', 'pena', 'hacer', 'cola', 'de', 'min.', 'One', 'of', 'the', 'best', 'pizza', \"you'll\", 'put', 'in', 'your', 'mouth.', 'People,', 'locals', 'and', 'travelers', 'alike,', 'will', 'stand', 'in', 'the', 'rain', 'to', 'get', 'a', 'slice', 'here.', 'got', 'a', 'sausage', 'pie', 'cuz', \"it's\", 'real', 'sliced', 'sausage,', 'not', 'crumbled', 'sausage', 'like', 'in', 'other', 'cities.', 'They', 'usually', 'have', 'plain,', 'pepperoni,', 'fresh', 'mozz,', 'caprese,', 'white,', 'and', 'a', 'mixed', 'topping', 'pizza', 'really', 'available.']\n"
     ]
    }
   ],
   "source": [
    "import nltk\n",
    "import re\n",
    "# this regular expression pattern matches any word that contains all non-alphabetical\n",
    "#   lower-case characters [^a-z]+\n",
    "# the beginning ^ and ending $ require the match to begin and end on a word boundary \n",
    "# def alpha_filter(w):\n",
    "#   # pattern to match a word of non-alphabetical characters\n",
    "#     pattern = r\"\\b(?![!\\\"#$%&()*+-./:;<=>?@[\\]^_`{|}~\\n])\\w+\\b\"\n",
    "\n",
    "# # Find all matching words\n",
    "# #     matches = re.findall(pattern, w)\n",
    "#     return bool(re.match(pattern, w))\n",
    "def alpha_filter(w):\n",
    "  pattern = re.compile('^[^a-z]+$')\n",
    "  if (pattern.match(w)):\n",
    "    return True\n",
    "  else:\n",
    "    return False\n",
    "\n",
    "alpha_reviews_one = [x for x in first_review if not alpha_filter(x)]\n",
    "alpha_reviews_two = [x for x in second_review if  not alpha_filter(x)]\n",
    "print(alpha_reviews_one)\n"
   ]
  },
  {
   "cell_type": "markdown",
   "id": "a3ebec5c",
   "metadata": {},
   "source": [
    "# Lowercase Convertion\n",
    "The below code snippet performs lowercase conversion on two lists (alpha_reviews_one and alpha_reviews_two) and stores the results in lowercase_doc1 and lowercase_doc2 respectively. "
   ]
  },
  {
   "cell_type": "code",
   "execution_count": 73,
   "id": "f7c1eeee",
   "metadata": {},
   "outputs": [
    {
     "name": "stdout",
     "output_type": "stream",
     "text": [
      "['awesome', 'pizza', '(original).', 'hammer', 'pizza', 'und', 'sie', 'schmeckt', 'einfach', 'kstlich.', 'hammer', 'pizza', 'and', 'it', 'just', 'tastes', 'delicious.', 'also', 'wenn', 'man', 'in', 'new', 'york', 'ist', 'sollte', 'man', \"joe's\", 'pizza', 'probieren.', 'am', 'not', 'a', 'fan', 'of', 'pizza', 'but', 'like', 'the', 'pizza', 'from', 'here.', 'the', 'piece', 'is', 'large', 'and', 'with', 'lots', 'of', 'meats', 'on', 'top.', 'hate', 'pizza', 'with', 'thick', 'base)', 'love', 'how', 'they', 'also', 'provide', 'chilli', 'fakes', 'and', 'garlic', 'powder', 'to', 'put', 'on', 'top', 'because', 'love', 'garlic.', 'my', 'favorite', 'pepperoni', 'and', 'fresh', 'mozzarella', 'want', 'to', 'eat', 'again.', 'eating', 'one', 'piece', 'is', 'unfortunate,', 'so', 'dont', 'worry,', 'eat', 'two', 'pieces.', 'large', 'pieces', 'of', 'pizza', 'for', 'each', 'slice.', 'there', 'are', 'premade', 'pizzas', 'available', 'and', 'they', 'warm', 'them', 'up', 'before', 'serving', 'them.', \"it's\", 'great', 'pizza....be', 'sure', 'to', 'give', 'it', 'a', 'try', 'if', 'your', 'in', 'or', 'near', 'times', 'square.', 'the', 'pizza', 'got', 'had', 'spinach,', 'mozzarella', 'and', 'pepperoni', 'which', 'were', 'so', 'good.', 'very', 'good', 'place', 'to', 'take', 'a', 'piece', 'of', 'pizza', 'down', 'the', 'street.', 'its', 'a', 'famous', 'place,', 'but', 'the', 'pizza', 'was', 'average', 'quality.', 'the', 'best', 'pizza', 'in', 'the', 'world', 'fantastic', 'slice', 'of', 'pie.', 'perfect', 'balance', 'of', 'cheese,', 'sauce,', 'and', 'dough.', 'great', 'thin', 'crust', 'style', 'pizza.', 'this', 'definitely', \"isn't\", 'the', 'best', 'pizza', 'in', \"i'd\", 'personally', 'say', \"it's\", 'just', 'above', 'average', 'for', 'a', 'quick', 'slice.', 'this', 'is', 'no', 'neapolitan', 'pizza,', 'that', 'is', 'for', 'sure.', 'so,', 'if', \"you're\", 'looking', 'for', 'a', 'mind', 'blowing', 'authentic', 'italian', 'slice', 'this', \"isn't\", 'it.', 'still', 'think', 'of', 'this', 'pizza', 'how', 'can', 'you', 'complain', 'about', 'cheese', 'pizza', 'when', 'every', 'thing', 'else', 'around', 'new', 'york', 'city', 'starts', 'at', 'best', 'slice', 'around,', 'the', 'line', 'can', 'get', 'quite', 'long', 'but', 'dont', 'be', 'deceived', 'this', 'pizza', 'oue', 'is', 'the', 'best', 'youre', 'going', 'to', 'find', 'around', 'the', 'times', 'square', 'are.', 'the', 'supreme', 'specialty', 'is', 'a', 'must.', 'the', 'drinks', 'selection', 'is', 'quite', 'allright', 'from', 'juices', 'to', 'sodas.', 'the', 'pizza', 'is', 'really', 'that', 'good.', 'amazing', 'pizza.', 'great', 'pizza,', 'not', 'a', 'lot', 'of', 'seating', 'but', 'the', 'pizza', 'is', 'worth', 'standing', 'for!', 'best', 'pizza', 'in', 'thin', 'crust,', 'delicious', 'cheese.', 'cheese', 'pizza', \"won't\", 'dissapoint', 'great', 'pizza.', 'it', 'was', 'really', 'the', 'best', 'pizza', 'had', 'in', 'new', 'york.', 'very', 'thin', 'crust', 'and', 'soft', 'dough.', 'famous', 'pizzeria', 'that', 'became', 'a', 'model', 'for', 'the', 'movie', 'spider-man.', 'you', 'can', 'taste', 'hot', 'pizza', 'at', 'a', 'reasonable', 'price.', 'everything', \"you'd\", 'want', 'from', 'a', 'pizza', 'joint', 'quick', 'grab', 'by', 'the', 'slice', 'pizza', 'spot', 'famous', 'in', 'and', 'worth', 'the', 'line.', 'as', 'soon', 'as', 'we', 'arrived', 'in', 'the', 'city', 'we', 'made', 'a', 'beeline', 'for', 'as', 'is', 'tradition.', 'got', 'the', 'white', 'ricotta', 'and', 'a', 'plain', 'cheese', 'and', 'my', 'partner', 'got', 'pepperoni.', 'not', 'only', 'was', 'the', 'taste', 'of', 'the', 'pies', 'great,', 'the', 'wait', 'was', 'short', 'even', 'though', 'it', 'was', 'busy', 'and', 'the', 'prices', 'were', 'awesome!', 'best', 'pizza', 'in', 'new', 'york', 'and', 'the', 'best', 'pizza', 'on', 'the', 'east', 'coast', '', 'great', 'tasting', 'slices,', 'fast', 'speeds', 'even', 'with', 'some', 'of', 'the', 'times', 'sq', 'crowd', 'that', 'comes', 'in', 'sometimes.', '(original).', 'buena', 'pizza.', 'good', 'pizza', 'good', 'attention.', 'after', 'trying', 'these', 'pizzas,', 'all', 'my', 'respect', 'to', 'the', 'americans.', 'enjoyed', 'the', 'caprese', 'pizza', 'and', 'pepperoni', 'pizza.', 'nothing', 'makes', 'you', 'feel', 'like', 'youre', 'in', 'ny', 'than', 'a', 'slice', 'of', 'joes', 'however,', 'as', 'soon', 'as', 'you', 'place', 'an', 'order,', 'the', 'pizza', 'will', 'shorten', 'quickly.', 'and', 'it', 'was', 'so', 'delicious', 'that', 'only', 'had', 'one', 'piece', 'of', 'pizza', 'in', 'the', 'photo!', 'if', 'you', 'go', 'to', 'new', 'york,', 'you', 'want', 'to', 'eat', 'another', 'pizza.', 'great', 'pizza', 'joint', 'a', 'few', 'blocks', 'away', 'from', 'times', 'square.', 'what', 'great', 'pizza!', 'the', 'crispy', 'crust', 'and', 'thin', 'slices', 'make', 'for', 'a', 'delicious', 'meal.', 'the', 'white', 'pizza', 'is', 'also', 'very', 'good.', 'the', 'most', 'anticipated', 'pizza', 'place', 'near', 'times', 'square', 'where', 'you', 'will', 'find', 'a', 'line', 'of', 'people', 'trying', 'to', 'get', 'a', 'slice', 'during', 'all', 'times', 'of', 'the', 'day.', 'attend', 'very', 'fast,', 'normal', 'pizza,', 'do', 'not', 'think', \"it's\", 'as', 'great', 'as', 'they', 'say', 'got', 'spinach', 'and', 'mozzarella.', 'try', 'cheese', 'slice.', 'one', 'of', 'the', 'best', 'new', 'york', 'style', 'pizzas', 'ever', 'taste.', 'the', 'pictures', 'in', 'the', 'walls', 'wit', 'a', 'lot', 'of', 'celebrity', 'confirm', 'that.', 'with', 'the', 'covid-19', 'you', 'cant', 'eat', 'inside', 'but', 'the', 'guys', 'keep', 'it', 'real', 'and', 'make', 'something', 'to', 'eat', 'and', 'go', 'outside', 'that', 'was', 'cool.', 'fresh', 'food', 'here', 'people', 'is', 'not', 'frozen', 'pizza.', 'legit', 'the', 'flavor', 'and', 'consistency', 'went', 'days', 'in', 'a', 'row.', 'now', \"it's\", 'not', 'pizza', 'have', 'ever', 'had', 'or', 'anything', 'but', 'its', 'definitely', 'up', 'there.', 'the', 'pizza', 'is', 'very', 'we', 'went', 'to', 'eat', 'here', 'for', 'the', 'spiderman', 'movie.', 'and', 'we', 'liked', 'the', 'pizza', 'a', 'lot', 'the', 'best', 'pizza', \"i've\", 'had', 'so', 'far,', 'recommend', 'the', 'basil', 'there', 'were', 'a', 'lot', 'of', 'pizza', 'types', 'and', 'it', 'was', 'good', 'because', 'it', 'was', 'not', 'expensive!', 'their', 'white', 'pizza', 'and', 'supreme', 'pizza', 'is', 'delicious', 'and', 'the', 'quick', 'service', 'is', 'really', 'fast.', 'great', 'pizza', 'shop', 'on', 'broadway!', 'delicious', 'pizza,', 'maybe', 'the', 'best', 'en', 'recomended', 'cheese', 'pizza!!', 'the', 'pepperoni', 'is', 'also', 'great', 'but', 'the', 'cheese', 'is', 'by', 'far', 'the', 'best', \"i've\", 'ever', 'had.', 'delicious', 'pizza!', 'no', 'wonder', 'the', 'place', 'is', 'so', 'famous,', 'they', 'have', 'many', 'kinds', 'of', 'delicious', 'pizza', 'and', '', 'with', 'a', 'quick', 'service.', 'rich', 'pizza', 'extremely', 'good', 'pizza.', 'not', 'very', 'spacious,', 'be', 'prepared', 'to', 'eat', 'standing.', 'but', \"it's\", 'hard', 'to', 'call', 'the', 'best', 'pizza', 'in', 'new', 'york;)', 'amazing,', 'quite', 'possibly', 'some', 'of', 'the', 'best', 'pizza', 'in', 'lots', 'of', 'great', 'options', 'for', 'vegetarians,', 'recommend', 'the', 'plain', 'one,', 'with', 'just', 'cheese', 'and', 'tomato', 'sauce', 'as', 'the', 'one', 'to', 'get', 'followed', 'by', 'one', 'of', 'the', 'white', 'pies.', 'really', 'awesome', 'pizza.', 'very', 'good', 'pizza', 'with', 'good', 'muzzarela', 'cheese.', 'like', 'my', 'pizza', 'more', 'crasty', 'but', 'was', 'satisfied.', '(original).', 'excelente', 'pizza!', 'excellent', 'pizza!', 'heard', 'a', 'lot', 'about', \"joe's\", 'pizza', 'but', 'more', 'than', 'lived', 'up', 'to', 'the', 'hype.', 'ordered', 'a', 'new', 'york', 'slice', 'and', 'supreme', 'and', 'both', 'were', 'delicious.', 'the', 'base', 'was', 'crispy', 'and', 'thin', 'and', 'the', 'toppings', 'were', 'light', 'and', 'flavorful.', 'service', 'was', 'quick', 'and', 'easy', 'and', 'we', 'got', 'our', 'pizza', 'with', 'little', 'fuss.', 'very', 'good', 'pizza!', 'service', 'is', 'also', 'great', 'and', 'love', 'that', 'the', 'serve', 'coke', 'products.', 'nice', 'ratio', 'of', 'thinness', 'and', 'a', 'little', 'crisp...with', 'good', 'flavor..', 'thing', 'is', 'next', 'day', 'we', 'came', 'back', 'again', 'and', 'the', 'crispness', 'of', 'the', 'slice', 'is', 'not', 'the', 'same', 'anymore..', 'still', 'a', 'must', 'in', 'new', 'york', '(original).', 'lekkere', 'en', 'zeer', 'verse', 'pizza!!!!!!', 'tasty', 'and', 'very', 'fresh', 'pizza', 'the', 'best', 'pizza', 'we', 'have', 'eaten', 'in', 'america!', 'nice', 'thin', 'slice.', 'very', 'good', 'place', 'to', 'eat', 'the', 'typical', 'pizza.', 'the', 'taste', 'of', 'the', 'pizzas', 'is', 'great.', 'you', 'can', 'eat', 'it', 'standing', 'on', 'one', 'side', 'or', 'ask', 'it', 'to', 'go.', 'el', 'gusto', 'de', 'las', 'pizzas', 'es', 'genial.', 'another', 'great', 'pizza', 'spot,', 'this', 'on', 'on', 'broadway.', 'either', 'way,', 'youll', 'love', 'the', 'pizza.', 'by', 'the', 'slice', 'or', 'a', 'whole', 'pizza', 'to', 'order.', 'pizza', 'was', 'amazing!', 'tasty', 'pizza,', 'legendary', 'location.', 'typical', 'american', 'pizza.', 'personally', 'prefer', 'italian', 'pizzas.', 'busy', 'place', '(line', 'moves', 'quickly)', 'but', 'a', 'delicious', 'slice!', 'this', 'is', 'a', 'very', 'good', 'new', 'york', 'pizza.', \"i'm\", 'from', 'boston', 'and', 'my', 'very', 'favorite', 'pizza', 'in', 'the', 'world', 'is', \"regina's\", 'in', 'the', 'north', 'end', 'of', 'boston', 'which', 'is', 'why', \"i'm\", 'very', 'stingy', 'with', 'five', 'stars.', 'too', 'much', 'hype', 'for', 'an', 'average', 'pizza!', 'umm..', \"don't\", 'get', 'me', 'wrong,', 'the', 'pizza', 'was', 'ok', 'but', 'for', 'a', 'slice?', 'fast', 'paced', 'by', 'the', 'slice', 'goodness!', 'one', 'or', 'if', 'not,', 'the', 'best', 'pizza', \"i've\", 'ever', 'had,', 'very', 'picturesque', 'place', 'this', 'pizza', 'really', 'is', 'one', 'of', 'the', 'best', 'pizzas', 'ive', 'tasted!', 'the', 'pepperoni', 'and', 'white', 'pizza', 'were', 'both', 'very', 'good', 'and', 'it', 'was', 'quick.', 'big', 'greasy', 'slices', 'served', 'fast', 'on', 'paper', 'plates.', 'amazing', 'pizza!', 'only', 'had', 'one', 'type', 'of', 'pizza', 'to', 'offer.', 'pizza', 'by', 'the', 'slice', 'or', 'whole', 'pies.', 'one', 'of', 'the', 'best', 'pizza', 'spots', 'in', 'new', 'york', 'city', 'love', 'this', 'place.', 'really', 'liked', 'this', 'pizza.', 'pizza', 'is', 'one', 'of', 'my', 'favorites.', 'know', 'yummy', 'pizza', 'when', 'taste', 'it.', 'the', 'grape', 'soda', '', 'was', 'really', 'good', 'as', 'well.', \"joe's\", 'is', 'a', 'star', 'because', 'it', 'is', 'a', 'top', 'new', 'york', 'slice', 'for', 'me.', 'my', 'numbers', 'and', 'require', 'you', 'buy', 'a', 'whole', 'pie', 'so', 'by', 'the', 'slice,', \"joe's\", 'is', 'this', 'is', 'strictly', 'for', 'a', 'classic', 'slice.', \"haven't\", 'tried', 'any', 'other', 'slices', 'here.', 'good', 'pizza,', 'very', 'busy', 'and', 'crowded', 'but', 'line', 'goes', 'fast.', 'eleven', 'pm', 'and', \"there's\", 'a', 'line...this', 'is', 'a', 'good', 'slice', 'of', 'pie!', 'the', 'pizzas', 'are', 'good', 'the', 'place', 'is', 'small', 'for', 'so', 'many', 'people', 'they', 'have', 'huge', 'slices', 'of', 'pizza', 'at', 'a', 'great', 'price.', 'average', 'pizza.', 'personally', 'liked', 'pizza', 'had', 'the', 'day', 'before', 'better.', 'the', 'dough', 'is', 'crispy', 'and', 'the', 'american', 'pizza', 'is', 'delicious.', 'it', 'does', 'always', 'seems', 'to', 'be', 'busy', 'but', 'things', 'are', 'quick', 'and', 'youll', 'get', 'your', 'pizza', 'slice', 'in', 'no', 'time.', 'average', 'cost', 'per', 'slice', 'is', 'about', 'give', 'or', 'take.', 'best', 'slice', 'ever', 'mmmmmm', 'could', 'eat', 'all', 'day', 'great', 'pizza,', 'fast', 'service,', \"don't\", 'let', 'the', 'line', 'scare', 'you,', 'it', 'moves', 'the', 'quintessential', 'new', 'york', 'slice.', 'perfect', 'crust,', 'simply', 'good', 'pizza.', 'an', 'institution', 'in', 'times', 'square', 'for', 'a', 'quick', 'and', 'tasty', 'slice', 'of', 'pizza', 'so', 'many', 'tastes', 'available', \"it's\", 'over', 'hyped', 'pizza', 'for', 'tourists.', \"it's\", 'a', 'solid', 'slice', 'but', 'nothing', 'special.', 'you', 'can', 'easily', 'pay', 'for', 'people', 'for', 'roughly', 'and', 'that', 'including', 'two', 'slices', 'per', 'person', 'with', 'a', 'drink.', 'very', 'nice', 'pizzeria', 'at', 'the', 'heart', 'of', 'new', 'york', 'city.', \"don't\", 'like', 'pizza', 'very', 'much', 'but', \"didn't\", 'expect', 'much', 'but', \"it's\", 'really', 'delicious.', 'very', 'good', 'pizzas', 'at', 'a', 'very', 'reasonable', 'price!', '(original).', 'super', 'leckere', 'pizza', 'und', 'sehr', 'coole', 'location.', 'super', 'delicious', 'pizza', 'and', 'very', 'cool', 'location.', 'if', 'you', 'like', 'pizza', 'you', 'should', 'definitely', 'visit', \"joe's\", 'pizza.', 'this', 'pizzeria', 'may', 'well', 'be', 'called', 'an', 'institution', 'in', 'times', 'square.', 'wer', 'pizza', 'mag', 'sollte', 'unbedingt', \"joe's\", 'pizza', 'einen', 'besuch', 'abstatten.', 'diese', 'pizzeria', 'kann', 'wohl', 'als', 'eine', 'institution', 'am', 'times', 'square', 'bezeichnet', 'werden.', 'piece', 'of', 'pizza', 'can', 'eat', 'cheaply', 'the', 'taste', 'seems', 'to', 'be', 'less', 'than', 'the', 'pizza', 'ate', 'in', 'sulgangpo', 'got', 'three', 'pies', 'of', 'cheese', 'pizza', 'four', 'pies', 'of', 'pizza', 'and', 'two', 'pieces', 'of', 'man', 'best', 'pizza', 'in', 'the', 'world,', 'flew', 'from', 'argentina', 'and', 'knew', 'where', 'had', 'to', 'eat.', 'this', 'pizza', 'was', 'so', 'good.', 'excellent', 'pizza!!!', 'if', 'you', 'are', 'looking', 'for', 'an', 'authentic', 'style', 'pizza....this', 'is', 'the', 'place!!', 'super', 'busy,', 'but', 'was', 'worth', 'the', 'wait,', 'a', 'real', 'slice', 'of', '', 'the', 'pizza', 'itself', 'is', 'not', 'the', 'best', 'but', 'just', 'being', 'in', 'that', 'iconic', 'atmosphere,', 'makes', 'the', 'experience', 'phenomenal.', 'great', 'pizza.', \"it's\", 'cheap,', 'but', 'taste', 'good..', 'thin', 'pizza', 'with', 'a', 'strong', 'flavour..', 'small', 'busy', 'place,', 'ideal', 'for', 'a', 'few', 'portions', 'of', 'tasty', 'pizzas.', 'four', 'portions', 'of', 'pizza', 'and', 'a', 'bottle', 'of', 'water,', 'for', 'about', 'the', 'walls', 'are', 'full', 'of', 'photographs', 'of', 'celebrities', 'who', 'have', 'come', 'to', 'the', 'pizzeria.', 'cuatro', 'porciones', 'de', 'pizza', 'y', 'botella', 'de', 'agua,', 'por', 'unos', 'las', 'paredes', 'estan', 'llenas', 'de', 'fotografas', 'de', 'famosos', 'que', 'han', 'acudido', 'a', 'la', 'pizzeria.', 'its', 'a', 'must', 'to', 'stop', 'by', 'and', 'eat', 'a', 'slice', 'of', 'pizza', 'in', 'the', 'heart', 'of', 'the', 'place', 'is', 'small', 'but', 'the', 'pizza', 'is', 'totally', 'worthy', 'it', '', 'best', 'pizza', 'in', 'new', 'york!', 'the', 'pizza', 'was', 'good,', 'the', 'best', 'ever', 'had.', 'perfectly', 'cooked', 'with', 'crispy', 'crusts.', 'it', 'was', 'dollars', 'a', 'slice', 'but', 'the', 'slices', 'were', '2x', 'as', 'big', 'as', 'your', 'regular', 'slices.', 'pair', 'with', 'coke', 'or', 'any', 'other', 'refreshing', 'drink', 'and', 'enjoy!', '(original).', 'excelente', 'pizza!!', 'excellent', 'pizza', 'great,', 'piping', 'hot', 'pizza', 'that', 'stays', 'hot', 'minutes', 'into', 'eating.', 'the', 'crust', 'is', 'super', 'crisp.', 'the', 'pizza', 'is', 'good!!', 'great', 'example', 'of', 'nyc', 'pizza', 'no', 'complaints,', 'the', 'staff', 'was', 'great,', 'the', 'pizza', 'was', 'amazing!!', 'not', 'alot', 'of', 'seating', 'so', 'best', 'of', 'luck', 'lol', 'awesome', 'pizza!', 'exquisite', 'pizza.', 'they', 'are', 'all', 'very', 'good,', 'especially', 'the', '\"white\"', 'and', 'the', 'margarita.', 'typical', 'new', 'york', 'pizza', 'in', 'all', 'its', 'essence.', 'pizza', 'tpica', 'neoyorquina', 'en', 'toda', 'su', 'esencia.', 'the', 'new', 'york', 'pizza', 'as', 'seen', 'in', 'the', 'movies,', 'huge,', 'steaming', 'and', 'really', 'delicious.', 'if', 'then', 'add', 'two', 'iced', 'beers', 'taken', 'from', 'the', 'pharmacy', 'in', 'front', '(can', 'of', 'coors,', 'colorado', 'lager,', 'from', '710ml', 'to', '2dollari', 'cadauna)', 'make', 'dinner', 'for', 'the', 'greatest!', 'se', 'poi', 'aggiungete', 'due', 'birre', 'ghiacciate', 'prese', 'dal', 'pharmacy', 'di', 'fronte', 'lattina', 'di', 'coors,', 'lager', 'del', 'colorado,', 'da', '710ml', 'a', '2dollari/cadauna)', 'fate', 'cena', 'alla', 'grandissima!', 'delicious', 'new', 'york', 'style', 'pizza', 'that', 'is', 'definitely', 'worth', 'the', 'wait.', 'brutal', 'pizzas', 'yummmy', 'pizza', '', 'really', 'like', 'it...so', 'fresh', 'and', 'really', 'feel', 'like', 'you', 'eating', 'italian', 'pizza...', 'sometimes', 'simplicity', 'is', 'all', 'you', 'need,', 'and', \"joe's\", 'pizza', 'delivers.', 'thin,', 'crispy', 'crust,', 'gooey', 'cheese,', 'fresh', '(ever', 'so', 'slightly', 'chunky)', 'tomato', 'sauce,', 'and', 'savory', 'pepperoni.', 'delicious', 'pizza.', 'solid', 'variety.', 'one', 'of', 'the', 'best', 'pizzas', 'in', 'this', 'may', 'be', 'more', 'of', 'a', 'nuanced', 'or', 'critical', 'review', 'simply', 'due', 'to', 'the', 'fact', 'that', 'expectations', 'run', 'high', 'for', 'new', 'york', 'pizza', 'in', 'new', 'york.', 'the', 'pizza', \"isn't\", 'bad,', \"don't\", 'get', 'me', 'wrong,', \"it's\", 'just', 'not', 'great.', \"don't\", 'know', 'how', 'to', 'explain', 'it,', 'it', \"wasn't\", 'bad,', 'it', 'was', 'good', 'pizza,', 'but', 'something', 'seemed', 'to', 'be', 'missing.', 'awesome', 'staff,', 'very', 'welcoming', 'and', 'you', 'can', 'see', 'all', 'the', 'action', 'going', 'on,', 'the', 'skill', 'behind', 'the', 'best', 'pizza', 'in', 'the', 'pizzas', 'themselves', 'are', 'full', 'of', 'flavour', 'and', 'the', 'base', 'is', 'incredible,', 'some', 'folks', \"don't\", 'eat', 'the', 'crust', 'but', 'this', 'part', 'is', 'just', 'as', 'special,', 'a', 'little', 'pizza', 'base', 'dipping', 'sauce', 'would', 'be', 'mega', 'to', 'top', 'it', 'off.', \"don't\", 'stop', 'at', 'one', 'or', 'two', 'slices,', 'arrive', 'hungry', 'and', 'try', 'it', 'all.', 'delicious', 'pizza!', 'had', 'the', 'cheese', 'and', 'the', 'caprese.', 'nice', 'big', 'slices', 'that', 'barely', 'fit', 'on', 'the', 'little', 'greasy', 'paper', 'plates,', 'and', 'needed', 'to', 'be', 'folded', 'to', 'be', 'eaten,', 'as', 'it', 'should', 'be.', 'with', 'obvious', 'pepperoni!', 'para', 'comer', 'al', 'paso', 'y', 'probar', 'un', 'slice', 'de', 'esos', 'que', 'vimos', 'en', 'todas', 'las', 'series!', 'con', 'pepperoni', 'obvio!', 'worst', 'place', 'to', 'eat', 'found', 'a', 'short', 'hair', 'in', 'my', 'pizza', 'have', 'long', 'hair', 'had', 'to', 'try', 'the', 'famous', \"joe's\", 'pizza', 'and', 'was', 'not', 'disappointed.', 'this', 'pizza', 'deserves', 'its', 'opinions', 'and', 'even', 'always', 'long', 'queue', 'did', 'not', 'discourage', 'me', 'from', 'going', 'there', 'again', 'and', 'again', 'the', 'pizza', 'slices', 'are', 'just', 'excellent', 'and', 'really', 'cheap', 'at', 'all.', 'les', 'slices', 'de', 'pizza', 'sont', 'justes', 'excellentes', 'et', 'vraiment', 'pas', 'cher', 'du', 'tout.', 'of', 'course,', 'best', 'pizza', 'ever!', 'had', 'a', 'great', 'time', 'munching', 'on', 'a', 'pepperoni', 'pie.', \"it's\", 'not', 'designed', 'to', 'be', 'the', 'most', 'gourmet', 'pizza,', 'but', 'it', 'was', 'a', 'yummy', 'slice', 'and', 'spending', 'bucks', 'to', 'get', 'a', 'whole', 'pizza', 'filling', 'up', 'men', 'is', 'well', 'worth', 'it.', 'it', 'was', 'good', 'for', 'some', 'late', 'night', 'pizza!', 'delicious', 'pizza,', \"i'm\", 'coming', 'back', \"joe's\", 'pretty', 'good', 'pizza,', 'id', 'recommend', 'to', 'go', 'in', 'the', 'afternoon', 'when', 'the', 'pizza', 'is', 'fresh,', 'closer', 'to', 'dark', 'hours', 'they', 'get', 'a', 'bit', 'cold,', 'he', 'does', 'reheat', 'in', 'the', 'oven.', 'hugely', 'popular', 'for', 'slices.', 'oh,', \"don't\", 'forget', 'to', 'try', 'the', 'deep', 'dish', 'slices', 'pizza', 'is', 'not', 'nice', 'at', 'all.', 'had', 'pepperoni', 'and', 'white', 'and', 'both', 'were', 'so', 'delicious.', 'pepperoni', 'had', 'a', 'very', 'moderate', 'amount', 'of', 'saltiness,', 'and', 'would', 'say', 'that', 'this', 'is', 'what', 'new', 'york', 'pizza', 'says', 'about', 'this', 'taste.', 'white', 'has', 'ricotta', 'cheese', 'on', 'top', 'of', 'cheese', 'toppings,', 'which', 'is', 'a', 'crystal', 'of', 'lightness.', 'great', 'pizza,', 'truly', 'new', 'york', 'style', 'excellent', 'pizza', 'from', 'this', 'pizza', 'chain', 'originally', 'from', 'new', 'york!', 'recommend', 'the', 'cheese', 'that', 'is', 'the', 'classic', 'site.', 'loved', 'this', 'pizza!', 'big', 'piece,', 'crispy', 'and', 'delicious!', '(original).', 'pizzas', 'muy', 'ricas', 'y', 'crujientes.', 'pizzas', 'very', 'rich', 'and', 'crispy.', 'very', 'little', 'variety', 'of', 'pizzas', 'the', 'truth,', 'and', 'the', 'flavors', 'leave', 'a', 'lot', 'to', 'be', 'desired.', 'you', 'can', 'get', 'better', 'pizza', 'at', 'most', 'local', 'suburban', 'places', 'across', 'the', 'country.', 'great', 'pizza', 'the', 'best', 'of', 'my', 'life', 'fresh', 'basil', 'and', 'mozzy', 'fraiche', 'yummie', 'proper', 'slice!', 'can', 'still', 'smell', 'the', 'delicious', 'pepperoni!', 'thin,', 'crisp', 'base', 'with', 'classic', 'toppings.', 'hot', 'and', 'tasty', '(though', 'personally', 'prefer', 'neapolitan', 'crusts).', 'they', 'should', 'have', 'written', 'explanations', 'of', 'the', 'different', 'toppings.', 'very', 'yummy', 'pizza.', 'best', 'pizza', 'spot', 'in', 'decent', 'pizza,', 'very', 'busy.', 'must', 'classic', 'thin', 'crust', 'new', 'york', 'style', 'pizza!', 'even', 'if', \"you're\", 'not', 'a', 'pizza', 'fan,', \"joe's\", 'pizza', 'will', 'make', 'you', 'think', 'again.', 'pizza', 'is', 'life.', 'then', \"there's\", \"joe's\", 'pizza,', 'a', 'bite', 'of', 'heaven', 'in', 'city', 'of', 'course', \"couldn't\", 'be', 'in', 'new', 'york', 'and', 'not', 'have', 'at', 'least', 'one', 'night', 'of', 'pizza', 'for', 'dinner.', 'staying', 'in', 'midtown', 'had', 'to', 'google', 'the', 'best', 'pizza', 'place', 'around', 'and', \"joe's\", 'pizza', 'was', 'the', 'top', 'of', 'the', 'list', 'bar', 'none.', 'got', 'a', 'slice', 'of', 'pepperoni', 'and', 'my', 'mom', 'got', 'a', 'slice', 'of', 'cheese.', 'not', 'going', 'to', 'say', \"it's\", 'the', 'best', 'pizza', 'ever', 'had', 'in', 'my', 'life...', 'not', 'to', 'mention', 'there', 'was', 'a', 'picture', 'of', 'carrie', 'bradshaw', 'on', 'the', 'wall', 'and', 'that', 'immediately', 'had', 'me', 'excited.', 'would', 'recommend', 'as', 'the', 'pizza', 'was', 'fresh..', 'yummy...', 'and', 'cheap!', 'nothing', 'but', 'hype', 'pizza', \"wasn't\", 'that', 'great', '(original).', 'pizza', 'eccezionale,', 'anche', 'a', 'new', 'york,', '', 'da', 'non', 'crederci...vedevamo', 'sempre', 'una', 'lunga', 'coda', 'che', 'non', 'potevano', 'non', 'provarla...very', 'good!!', 'outstanding', 'pizza,', 'even', 'in', 'new', 'york,', 'you', \"can't\", 'believe', 'it', 'we', 'always', 'saw', 'a', 'long', 'queue', 'that', \"couldn't\", 'fail', 'to', 'prove', 'it', 'very', 'good', 'super', 'popular', 'pizza', 'place', 'in', 'new', 'york!', 'exquisite', 'pizza', 'the', 'prices', 'for', 'portions', 'are', 'based', 'on', 'tastes,', 'average', 'of', 'dollars.', 'exquisita', 'pizza', '', 'los', 'precios', 'por', 'porciones', 'son', 'en', 'funcion', 'de', 'los', 'gustos,', 'promedio', 'de', 'dolares.', 'amazing', 'pizza!', 'perfect', 'place', 'for', 'a', 'quick', 'and', 'delicious', 'slice!', 'best', 'pizza!', 'fresh', 'tomato', 'sauce,', 'nice', 'thin', 'crust,', 'pretty', 'good', 'ingredients.', 'one', 'of', 'nycs', 'best', 'slices.', 'one', 'of', 'the', 'strongest', 'pizza', 'in', 'new', 'york.', 'very', 'tasty', 'and', 'satiated.', 'and', 'ate', 'it', 'more', 'than', 'once.', 'but', 'the', 'staff', 'unfortunately', 'not', 'serviced.', 'because', 'to', 'whom', 'did', 'you', 'ask', 'if', 'the', 'meat', 'was', 'pork', 'or', 'not?', 'the', 'best', 'new', 'york', 'slice', 'during', 'my', 'visit.', 'the', 'crust,', 'the', 'sauce,', 'and', 'the', 'cheese', 'was', 'everything', 'had', 'hoped', 'for.', 'great', 'pizza.', 'super', 'nice', 'staff', 'and', 'wonderful', 'pizza!', 'this', 'is', 'the', 'gold', 'standard', 'for', 'the', 'revered', 'style', 'pizza.', 'definitley', 'a', 'proper', 'place', 'to', 'have', 'a', 'style', 'pizza!', 'compare', 'to', 'the', 'pizza', 'in', 'here,', 'sbarro', 'that', 'kind', 'of', 'things', 'are', 'rubbish.', \"it's\", 'a', 'typical', 'new', 'york', 'style', 'pizza', 'with', 'a', 'thin', 'dough', 'and', 'a', 'light,', 'slightly', 'painted', 'topping.', \"it's\", 'not', 'a', 'classic', 'pizza', 'baked', 'in', 'a', 'charcoal', 'oven,', 'but', 'considering', 'the', 'cost', 'performance,', 'it', 'might', 'be', 'one', 'of', 'the', 'best', 'pizza', 'places.', 'the', 'dough', 'is', 'different', 'for', 'pepperoni', 'pizza', 'and', 'basil', 'pizza.', \"it's\", 'a', 'pizza', 'that', 'care', 'about', 'that', 'much.', 'excelente', 'pizzeria.', '', 'a', 'must', 'visit.', 'pizza', 'is', 'great,', 'prices', 'are', '\"normal', 'considering', 'this', 'is', 'new', 'york', 'pizza', 'is', 'always', 'great,', 'but', 'nothing', 'special', 'can', 'say', 'about', 'this', 'one.', 'delicious', 'pizza', 'we', 'went', 'twice', 'on', 'our', 'visit', 'to', 'new', 'york.', 'the', 'most', 'amazing', 'pizza', 'my', 'husband', 'and', 'have', 'ever', 'ate', 'like', 'ill', 'never', 'be', 'able', 'to', 'pizza', 'the', 'same', 'again.', 'we', 'went', 'to', 'a', 'couple', 'pizza', 'places', 'and', 'joes', 'pizza', 'was', 'absolutely', 'the', 'best', 'had', 'the', 'cheese', 'and', 'the', 'spinach', 'and', 'both', 'were', 'just', 'perfect', 'my', 'husbands', 'favorite', 'was', 'the', 'pepp', 'and', 'cheese.', 'my', 'husband', 'is', 'already', 'planning', 'to', 'try', 'and', 'make', 'this', 'pizza', 'since', 'we', 'live', 'in', 'ohio.', 'tried', 'the', 'cheese,', 'pepp,', 'and', 'caprese.', 'really', 'good', 'pizza,', \"didn't\", 'expect', 'it.', 'the', 'pizza', 'is', 'so', 'yummy', 'we', 'had', 'to', 'go', 'back', 'a', 'second', 'night', 'wooooow.', 'you', 'have', 'to', 'try', 'it', 'its', 'really', 'one', 'of', 'the', 'best', 'pizza', 'you', 'will', 'eat', 'ever', '(original).', 'uma', 'das', 'melhores', 'pizzas', 'de', 'manhattan,', 'a', 'melhor', 'da', 'broadway.', 'one', 'of', 'the', 'best', 'pizzas', 'in', 'manhattan,', 'the', 'best', 'on', 'broadway.', 'our', 'first', 'new', 'york', 'pizza', 'and', 'boy', 'was', 'it', 'got', 'the', 'pepperoni', 'and', 'my', 'boyfriend', 'got', 'the', 'margarita.', 'both', 'delicious.', \"joe's\", 'is', 'a', 'machine', 'that', 'processes', 'one', 'thing:', 'some', 'of', 'the', 'best', 'pizza', 'slices', 'in', 'town.', 'the', 'pizza', 'from', \"joe's\", 'is', 'unarguably', 'one', 'of', 'the', 'most', 'delicious', 'thin', 'crust', 'slices', \"you'll\", 'ever', 'have.', 'great', 'pizza,', 'quick', 'service', 'even', 'when', 'full,', 'friendly', 'staff', 'the', 'new', 'york', 'style', 'pizza', 'is', 'truly', 'worth', 'it..', 'especially', 'you', 'may', 'have', 'slices', 'instead', 'of', 'ordering', 'a', 'complete', 'pizza', 'if', 'you', 'are', 'alone', '(original).', 'pizza', 'muito', 'boa.', 'pizza', 'very', 'good.', 'yummy', 'great', 'style', 'pizza.', 'slices', 'are', 'huge.', 'only', 'downside', 'was', 'that', 'the', 'pizza', 'base', 'was', 'slightly', 'burnt', 'best', 'pizza', 'in', 'pizza', 'tasted', 'absolutely', 'amazing.', 'the', 'slices', 'are', 'huge', 'and', 'fresh.', 'one', 'slice', 'could', 'be', 'enough', 'for', 'one', 'person.', 'margherita', 'is', 'my', 'favourite.', 'amazing', 'pizza!!!!!', 'best', 'pizza', 'in', 'nyc', 'a', 'must', 'have', 'wile', 'there', 'for', 'my', 'first', 'slice', 'of', '', 'it', 'was', 'definitely', 'worth', 'the', 'walk.', 'maybe', 'my', 'favorite', 'slice', 'ever.', 'am', 'a', 'pizza', 'chef.', \"i've\", 'been', 'to', 'many', 'pizzerias', 'in', 'new', 'york.', 'please', 'enjoy', 'pepperoni.', 'great', 'slices,', 'a', 'perfect', 'balance', 'of', 'cheese,', 'sauce', 'and', 'the', 'perfect', 'flexible', 'but', 'crunchy', 'base.', 'do', 'not', 'miss', 'this', 'place', 'if', 'you', 'want', 'to', 'taste', 'the', 'authentic', 'pizza', 'slice.', 'the', 'place', 'is', 'very', 'small', 'and', 'there', 'may', 'not', 'be', 'space', 'to', 'sit,', 'but', 'the', 'pizza', 'is', 'super', 'fresh', 'and', 'delicious.', 'the', 'slices', 'are', 'big', 'enough', 'to', 'be', 'full', 'with', 'just', 'one', 'slice', '(at', 'least', 'for', 'me).', 'they', 'had', 'a', 'selection', 'of', 'several', 'pizzas', 'and', 'as', 'a', 'vegetarian,', 'chose', 'spinach', 'pizza,', 'which', 'was', 'super', 'yummy!', 'even', 'if', \"you're\", 'long,', \"you're\", 'out.', 'it', 'is', 'delicious', 'if', 'we', 'eat', 'without', 'expectation', 'feel', 'its', 'a', 'hyped', 'place', 'for', 'pizzas', 'but', 'still', 'better', 'than', 'few', 'pizzas', 'have', 'had', 'and', 'okayish', 'if', 'compared', 'with', 'few', 'pizzas', 'have', 'had', 'till', 'now.', 'was', 'disappointed', 'as', 'a', '1st', 'time', 'patron', 'of', 'this', 'pizza', 'joint.', 'as', 'you', 'can', 'see', 'from', 'the', 'photo,', 'it', 'was', 'burnt', 'in', 'all', 'the', 'wrong', 'places', 'and', 'the', 'crust', 'was', 'very', 'course', 'tough...as', 'if', 'they', 'used', 'old', 'dough.', 'they', 'delivered', 'burnt', 'pizza', 'without', 'the', 'toppings', 'requested', 'and', 'it', 'was', 'room', 'temperature.', 'the', 'pizza', 'is', 'very', 'rich', 'but', 'do', 'not', 'think', 'it', 'is', 'the', 'best', 'in', 'thought', 'the', 'pizza', 'was', 'good', 'but', 'not', 'really', \"'all\", \"that'.\", 'omg', 'great', 'pizza.', 'especially', 'the', 'ricotta', 'pizza', '', 'the', 'pizza', 'was', 'thin', 'and', 'crunchy', 'and', 'cheesey!', 'the', 'margarita', 'pizza', 'was', 'also', 'fresh', 'and', 'delicious!', 'the', 'perfect', 'quintessential', 'new', 'york', 'pizza', 'slice', 'the', 'best', 'pizza', 'in', 'the', 'city.', 'great', 'pizza.', 'therere', 'limited', 'seatings', 'in', 'store', 'so', 'we', 'have', 'the', 'pizza', 'at', 'bryant', 'park.', 'comvel', 'no', 'one', 'makes', 'pizza', 'like', 'in', 'brazil', 'delicious', 'pizzas', 'pepperoni,', 'supreme', 'and', 'quattro', 'cheese', 'pizza', 'was', 'a', 'bit', 'spicy,', 'but', 'supreme', 'and', 'quattro', 'pizza', 'were', 'very', 'delicious.', 'even', 'though', 'ate', 'at', 'the', 'hotel', 'minutes', 'after', 'packing,', 'the', 'dough', 'was', 'chewy', 'and', 'the', 'cheese', 'was', 'alive.', 'personally,', 'only', 'ate', 'supreme', 'pizza,', 'but', 'felt', 'that', \"greenwich's\", \"joe's\", 'pizza', 'was', 'more', 'delicious.', 'still', 'the', 'best', 'pizza', 'place', 'to', 'eat', 'late', 'at', 'dawn.', 'however', 'while', 'the', 'pizza', 'was', 'extremely', 'delicious,', \"wouldn't\", 'find', 'myself', 'spending', 'dollars', 'for', 'a', 'slice', 'of', 'pepperoni.', 'find', 'spending', 'dollars', 'for', 'three', 'slices', 'rather', 'unnecessary', 'instant', 'hot', 'pizzas', 'perform', 'well', 'to', 'grow', 'thin', 'dough.', 'aside', 'from', 'being', 'a', 'bit', 'edgy,', 'the', 'pizza', 'was', 'delicious', 'and', 'it', 'was', 'worth', 'the', '15-minute', 'queue.', 'aparte', 'de', 'que', 'fue', 'un', 'poco', 'borde,', 'la', 'pizza', 'estaba', 'buensima', 'y', 'mereci', 'la', 'pena', 'hacer', 'cola', 'de', 'min.', 'one', 'of', 'the', 'best', 'pizza', \"you'll\", 'put', 'in', 'your', 'mouth.', 'people,', 'locals', 'and', 'travelers', 'alike,', 'will', 'stand', 'in', 'the', 'rain', 'to', 'get', 'a', 'slice', 'here.', 'got', 'a', 'sausage', 'pie', 'cuz', \"it's\", 'real', 'sliced', 'sausage,', 'not', 'crumbled', 'sausage', 'like', 'in', 'other', 'cities.', 'they', 'usually', 'have', 'plain,', 'pepperoni,', 'fresh', 'mozz,', 'caprese,', 'white,', 'and', 'a', 'mixed', 'topping', 'pizza', 'really', 'available.']\n"
     ]
    }
   ],
   "source": [
    "#lowercase conversion\n",
    "lowercase_doc1 = [word.lower() for word in alpha_reviews_one]\n",
    "lowercase_doc2 = [word.lower() for word in alpha_reviews_two]\n",
    "print(lowercase_doc1)"
   ]
  },
  {
   "cell_type": "markdown",
   "id": "b9dc9b47",
   "metadata": {},
   "source": [
    "# stopwords \n",
    "The code snippet performs stop word removal on the lowercase_doc1 and lowercase_doc2 lists using the combined list of stopwords. "
   ]
  },
  {
   "cell_type": "code",
   "execution_count": 74,
   "id": "5ed0baa9",
   "metadata": {},
   "outputs": [
    {
     "name": "stdout",
     "output_type": "stream",
     "text": [
      "['awesome', 'pizza', '(original).', 'hammer', 'pizza', 'und', 'sie', 'schmeckt', 'einfach', 'kstlich.', 'hammer', 'pizza', 'tastes', 'delicious.', 'also', 'wenn', 'man', 'new', 'york', 'ist', 'sollte', 'man', \"joe's\", 'pizza', 'probieren.', 'fan', 'pizza', 'like', 'pizza', 'here.', 'piece', 'large', 'lots', 'meats', 'top.', 'hate', 'pizza', 'thick', 'base)', 'love', 'also', 'provide', 'chilli', 'fakes', 'garlic', 'powder', 'put', 'top', 'love', 'garlic.']\n",
      "['one', 'best', 'pizza', 'spots', 'new', 'york', 'city', 'love', 'place.', 'feel', 'hyped', 'place', 'pizzas', 'still', 'better', 'pizzas', 'okayish', 'compared', 'pizzas', 'till', 'now.', 'great', 'pizza.', 'therere', 'limited', 'seatings', 'store', 'pizza', 'bryant', 'park.', 'try', 'cheese', 'slice.', 'white', 'pizza', 'supreme', 'pizza', 'delicious', 'quick', 'service', 'really', 'fast.', 'best', 'slice', 'ever', 'mmmmmm', 'eat', 'day', 'another', 'great']\n"
     ]
    }
   ],
   "source": [
    "nltkstopwords = nltk.corpus.stopwords.words('english')\n",
    "morestopwords = ['a','.','b','y',\"'s\",\"'d\",\"'ll\",\"'t\",\"'m\",\"'re\",\"'ve\",'could','might','would','must','need','sha','wo']\n",
    "finalstopwords= nltkstopwords+morestopwords\n",
    "stopped_doc1= [w for w in lowercase_doc1 if not w in finalstopwords]\n",
    "stopped_doc2= [w for w in lowercase_doc2 if not w in finalstopwords]\n",
    "print(stopped_doc1[:50])\n",
    "print(stopped_doc2[:50])"
   ]
  },
  {
   "cell_type": "code",
   "execution_count": 62,
   "id": "0a77dd4a",
   "metadata": {},
   "outputs": [
    {
     "name": "stderr",
     "output_type": "stream",
     "text": [
      "[nltk_data] Downloading package wordnet to\n",
      "[nltk_data]     /Users/kashyapchaganti/nltk_data...\n",
      "[nltk_data]   Package wordnet is already up-to-date!\n"
     ]
    },
    {
     "data": {
      "text/plain": [
       "True"
      ]
     },
     "execution_count": 62,
     "metadata": {},
     "output_type": "execute_result"
    }
   ],
   "source": [
    "nltk.download('wordnet')"
   ]
  },
  {
   "cell_type": "markdown",
   "id": "537fbeb3",
   "metadata": {},
   "source": [
    "# lemmatization\n",
    "\n",
    "The code snippet performs lemmatization on the stopped_doc1 and stopped_doc2 lists using the WordNet lemmatizer from NLTK. "
   ]
  },
  {
   "cell_type": "code",
   "execution_count": 75,
   "id": "f1e78a81",
   "metadata": {},
   "outputs": [
    {
     "name": "stdout",
     "output_type": "stream",
     "text": [
      "['awesome', 'pizza', '(original).', 'hammer', 'pizza', 'und', 'sie', 'schmeckt', 'einfach', 'kstlich.', 'hammer', 'pizza', 'taste', 'delicious.', 'also', 'wenn', 'man', 'new', 'york', 'ist', 'sollte', 'man', \"joe's\", 'pizza', 'probieren.', 'fan', 'pizza', 'like', 'pizza', 'here.', 'piece', 'large', 'lot', 'meat', 'top.', 'hate', 'pizza', 'thick', 'base)', 'love', 'also', 'provide', 'chilli', 'fake', 'garlic', 'powder', 'put', 'top', 'love', 'garlic.']\n",
      "['one', 'best', 'pizza', 'spot', 'new', 'york', 'city', 'love', 'place.', 'feel', 'hyped', 'place', 'pizza', 'still', 'better', 'pizza', 'okayish', 'compared', 'pizza', 'till', 'now.', 'great', 'pizza.', 'therere', 'limited', 'seating', 'store', 'pizza', 'bryant', 'park.', 'try', 'cheese', 'slice.', 'white', 'pizza', 'supreme', 'pizza', 'delicious', 'quick', 'service', 'really', 'fast.', 'best', 'slice', 'ever', 'mmmmmm', 'eat', 'day', 'another', 'great']\n"
     ]
    }
   ],
   "source": [
    "from nltk.stem import WordNetLemmatizer\n",
    "lemmatizer = WordNetLemmatizer()\n",
    "lemmatized_words_doc1 = [lemmatizer.lemmatize(word) for word in stopped_doc1]\n",
    "lemmatized_words_doc2 = [lemmatizer.lemmatize(word) for word in stopped_doc2]\n",
    "print(lemmatized_words_doc1[:50])\n",
    "print(lemmatized_words_doc2[:50])\n"
   ]
  },
  {
   "cell_type": "markdown",
   "id": "17bf2665",
   "metadata": {},
   "source": [
    "# Final Stop Words\n",
    "\n",
    "The provided code defines a function filter_stopwords that filters words from a given list based on several conditions as given below (I used alpha filter and stop words filter along with symbols) "
   ]
  },
  {
   "cell_type": "code",
   "execution_count": 81,
   "id": "2bf47a77",
   "metadata": {},
   "outputs": [
    {
     "name": "stdout",
     "output_type": "stream",
     "text": [
      "['awesome', 'pizza', 'hammer', 'pizza', 'und', 'sie', 'schmeckt', 'einfach', 'kstlich.', 'hammer', 'pizza', 'taste', 'delicious.', 'also', 'wenn', 'man', 'new', 'york', 'ist', 'sollte', 'man', \"joe's\", 'pizza', 'probieren.', 'fan', 'pizza', 'like', 'pizza', 'here.', 'piece', 'large', 'lot', 'meat', 'top.', 'hate', 'pizza', 'thick', 'base)', 'love', 'also', 'provide', 'chilli', 'fake', 'garlic', 'powder', 'put', 'top', 'love', 'garlic.', 'favorite']\n",
      "['one', 'best', 'pizza', 'spot', 'new', 'york', 'city', 'love', 'place.', 'feel', 'hyped', 'place', 'pizza', 'still', 'better', 'pizza', 'okayish', 'compared', 'pizza', 'till', 'now.', 'great', 'pizza.', 'therere', 'limited', 'seating', 'store', 'pizza', 'bryant', 'park.', 'try', 'cheese', 'slice.', 'white', 'pizza', 'supreme', 'pizza', 'delicious', 'quick', 'service', 'really', 'fast.', 'best', 'slice', 'ever', 'mmmmmm', 'eat', 'day', 'another', 'great']\n"
     ]
    }
   ],
   "source": [
    "def filter_stopwords(words_list, stopwords_list, symbols_list):\n",
    "    filtered_words = []\n",
    "    for word in words_list:\n",
    "        if word.casefold() not in stopwords_list and word not in symbols_list and re.match(r'\\b\\w+\\b', word) and not alpha_filter(word):\n",
    "            filtered_words.append(word)\n",
    "    return filtered_words\n",
    "symbols = \"!\\\"#$%&()*+-./:;<=>?@[\\]^_`{|}~\\n'\"\n",
    "finalwords_doc1= filter_stopwords(lemmatized_words_doc1,finalstopwords,symbols )\n",
    "finalwords_doc2= filter_stopwords(lemmatized_words_doc2,finalstopwords,symbols )\n",
    "print(finalwords_doc1[:50])\n",
    "print(finalwords_doc2[:50])"
   ]
  },
  {
   "cell_type": "markdown",
   "id": "b8f474e8",
   "metadata": {},
   "source": [
    "# Top50 Frquency \n",
    "\n",
    "The code defines a function named frequencyTop50 that calculates the top 50 words by frequency in a given document. Here's a summary of what the code does:\n",
    "\n",
    "1) The function takes a single argument doc, which is the document for which we want to calculate the top 50 words by frequency.\n",
    "2) The variable length is assigned the length of the document.\n",
    "3) The nltk.FreqDist() function is used to create a frequency distribution of the words in the document. It counts the occurrences of each word.\n",
    "4) The freqdist object is then used to create a new frequency distribution newfreqdist where the frequency of each word is normalized by dividing it by the length of the document.\n",
    "5) The newfreqdist.items() returns a list of word-frequency pairs, which is then sorted based on the frequency in descending order using the sorted() function and a lambda function as the key.\n",
    "6) The sorted list of word-frequency pairs is then sliced to retrieve the top 50 pairs using the expression sortedFreq[:50].\n",
    "7) The resulting list of the top 50 word-frequency pairs is returned by the function.\n",
    "\n",
    "\n",
    "You can call this function by passing the document as an argument, and it will return a list of the top 50 words by frequency, normalized by the length of the document.\n",
    "\n",
    "\n",
    "\n",
    "\n"
   ]
  },
  {
   "cell_type": "code",
   "execution_count": 64,
   "id": "93997d76",
   "metadata": {},
   "outputs": [],
   "source": [
    "def frequencyTop50(doc):\n",
    "    length = len(doc)\n",
    "    freqdist = nltk.FreqDist(doc)\n",
    "    newfreqdist = {word: freq / length for word, freq in freqdist.items()}\n",
    "    sortedFreq = sorted(newfreqdist.items(), key=lambda x: x[1], reverse=True)\n",
    "    return sortedFreq[:50]"
   ]
  },
  {
   "cell_type": "code",
   "execution_count": 82,
   "id": "68c1c152",
   "metadata": {},
   "outputs": [
    {
     "name": "stdout",
     "output_type": "stream",
     "text": [
      "First Doc\n",
      "\n",
      "[('pizza', 0.09221772379667116), ('slice', 0.02249212775528565), ('best', 0.0206927575348628), ('new', 0.016644174538911382), ('great', 0.012145748987854251), ('pizza.', 0.012145748987854251), ('one', 0.011695906432748537), ('york', 0.011246063877642825), ('good', 0.011246063877642825), ('place', 0.009446693657219974), ('delicious', 0.00899685110211426), ('pizza,', 0.008547008547008548), ('eat', 0.007647323436797121), ('cheese', 0.007197480881691408), ('really', 0.007197480881691408), ('pizza!', 0.007197480881691408), (\"joe's\", 0.006747638326585695), ('thin', 0.005847953216374269), ('pepperoni', 0.005398110661268556), ('de', 0.005398110661268556), ('time', 0.004948268106162843), ('got', 0.004948268106162843), ('style', 0.004948268106162843), ('delicious.', 0.00449842555105713), ('like', 0.00449842555105713), ('fresh', 0.00449842555105713), ('get', 0.00449842555105713), ('ever', 0.00449842555105713), ('taste', 0.004048582995951417), ('quick', 0.004048582995951417), ('lot', 0.003598740440845704), ('crust', 0.003598740440845704), ('worth', 0.003598740440845704), ('even', 0.003598740440845704), ('make', 0.003598740440845704), ('super', 0.003598740440845704), ('piece', 0.003148897885739991), ('slice.', 0.003148897885739991), ('try', 0.003148897885739991), ('perfect', 0.003148897885739991), ('white', 0.003148897885739991), ('nice', 0.003148897885739991), ('also', 0.002699055330634278), ('average', 0.002699055330634278), ('say', 0.002699055330634278), ('supreme', 0.002699055330634278), ('crispy', 0.002699055330634278), ('tasty', 0.002699055330634278), ('la', 0.002699055330634278), ('love', 0.002249212775528565)]\n",
      "\n",
      "Second Doc\n",
      "\n",
      "[('pizza', 0.09197475202885483), ('slice', 0.02254283137962128), ('best', 0.020739404869251576), ('new', 0.016681695220919748), ('great', 0.012173128944995492), ('pizza.', 0.012173128944995492), ('one', 0.011722272317403066), ('york', 0.01127141568981064), ('good', 0.01127141568981064), ('place', 0.009467989179440937), ('delicious', 0.009017132551848512), ('pizza,', 0.008566275924256087), ('eat', 0.007664562669071236), ('cheese', 0.007213706041478809), ('really', 0.007213706041478809), ('pizza!', 0.007213706041478809), (\"joe's\", 0.006762849413886384), ('thin', 0.005861136158701533), ('de', 0.005410279531109108), ('pepperoni', 0.005410279531109108), ('got', 0.004959422903516681), ('style', 0.004959422903516681), ('time', 0.004959422903516681), ('like', 0.004508566275924256), ('get', 0.004508566275924256), ('fresh', 0.004508566275924256), ('delicious.', 0.004508566275924256), ('quick', 0.0040577096483318306), ('ever', 0.0040577096483318306), ('taste', 0.0040577096483318306), ('crust', 0.0036068530207394047), ('lot', 0.0036068530207394047), ('even', 0.0036068530207394047), ('make', 0.0036068530207394047), ('worth', 0.0036068530207394047), ('super', 0.0036068530207394047), ('try', 0.0031559963931469793), ('slice.', 0.0031559963931469793), ('white', 0.0031559963931469793), ('piece', 0.0031559963931469793), ('nice', 0.0031559963931469793), ('perfect', 0.0031559963931469793), ('supreme', 0.002705139765554554), ('also', 0.002705139765554554), ('crispy', 0.002705139765554554), ('average', 0.002705139765554554), ('tasty', 0.002705139765554554), ('say', 0.002705139765554554), ('la', 0.002705139765554554), ('love', 0.002254283137962128)]\n"
     ]
    }
   ],
   "source": [
    "print(\"First Doc\")\n",
    "print()\n",
    "print(frequencyTop50(finalwords_doc1))\n",
    "print()\n",
    "print(\"Second Doc\")\n",
    "print()\n",
    "print(frequencyTop50(finalwords_doc2))"
   ]
  },
  {
   "cell_type": "markdown",
   "id": "5fb8539a",
   "metadata": {},
   "source": [
    "# top50bigram \n",
    "\n",
    "The code defines a function named `bigram` that calculates and prints the top 50 bigrams by frequency in a given list of words. Here's a summary of what the code does:\n",
    "\n",
    "1. The function takes a single argument `words`, which is the list of words for which we want to calculate the top 50 bigrams.\n",
    "2. The `BigramCollocationFinder.from_words()` function is used to create a bigram collocation finder from the words. This generates all possible bigrams from the list of words.\n",
    "3. The `ngram_fd.items()` method is called on the bigram finder to retrieve the bigram frequencies as a list of (bigram, frequency) pairs.\n",
    "4. The bigram frequencies are sorted in descending order based on the frequency using the `sorted()` function and a lambda function as the key.\n",
    "5. The sorted list of bigram-frequency pairs is sliced to retrieve the top 50 pairs using the expression `sorted_bigrams[:50]`.\n",
    "6. The function then iterates over the top 50 bigrams and their frequencies, printing them in the format: \"word1 word2: frequency\".\n",
    "\n",
    "To use this function, you can pass a list of words as an argument, and it will calculate and print the top 50 bigrams by frequency."
   ]
  },
  {
   "cell_type": "code",
   "execution_count": 66,
   "id": "9e455754",
   "metadata": {},
   "outputs": [],
   "source": [
    "from nltk.collocations import BigramCollocationFinder"
   ]
  },
  {
   "cell_type": "code",
   "execution_count": 77,
   "id": "13f65386",
   "metadata": {},
   "outputs": [],
   "source": [
    "def bigram(words):\n",
    "    # Generate bigrams\n",
    "    finder = BigramCollocationFinder.from_words(words)\n",
    "\n",
    "    # Calculate bigram frequencies\n",
    "    bigram_frequencies = finder.ngram_fd.items()\n",
    "\n",
    "    # Sort bigrams by frequency in descending order\n",
    "    sorted_bigrams = sorted(bigram_frequencies, key=lambda x: x[1], reverse=True)\n",
    "\n",
    "    # Extract the top 50 bigrams\n",
    "    top_50_bigrams = sorted_bigrams[:50]\n",
    "\n",
    "    # Print the top 50 bigrams and their frequencies\n",
    "    for bigram, frequency in top_50_bigrams:\n",
    "        print(f\"{bigram[0]} {bigram[1]}: {frequency}\")"
   ]
  },
  {
   "cell_type": "code",
   "execution_count": 83,
   "id": "f43df2ab",
   "metadata": {},
   "outputs": [
    {
     "name": "stdout",
     "output_type": "stream",
     "text": [
      "Bigrams for Doc1\n",
      "\n",
      "best pizza: 30\n",
      "new york: 25\n",
      "joe's pizza: 8\n",
      "one best: 8\n",
      "york pizza: 7\n",
      "pizza new: 6\n",
      "slice pizza: 6\n",
      "york style: 6\n",
      "great pizza.: 5\n",
      "new york.: 5\n",
      "pizza good: 5\n",
      "great pizza: 5\n",
      "pizza place: 5\n",
      "pizza slice: 5\n",
      "like pizza: 4\n",
      "piece pizza: 4\n",
      "thin crust: 4\n",
      "cheese pizza: 4\n",
      "time square: 4\n",
      "pizza really: 4\n",
      "great pizza,: 4\n",
      "style pizza: 4\n",
      "delicious pizza: 4\n",
      "good pizza,: 4\n",
      "pizza pizza: 4\n",
      "time square.: 3\n",
      "good place: 3\n",
      "style pizza.: 3\n",
      "pizza thin: 3\n",
      "hot pizza: 3\n",
      "pizza spot: 3\n",
      "good pizza: 3\n",
      "new york,: 3\n",
      "white pizza: 3\n",
      "pizza ever: 3\n",
      "york slice: 3\n",
      "pizza best: 3\n",
      "place eat: 3\n",
      "place small: 3\n",
      "pizza delicious.: 3\n",
      "institution time: 3\n",
      "new york!: 3\n",
      "hammer pizza: 2\n",
      "pizza und: 2\n",
      "pizza taste: 2\n",
      "pizza like: 2\n",
      "want eat: 2\n",
      "one piece: 2\n",
      "pizza slice.: 2\n",
      "near time: 2\n",
      "\n",
      "Bigrams for Doc2\n",
      "\n",
      "best pizza: 31\n",
      "new york: 25\n",
      "one best: 8\n",
      "joe's pizza: 8\n",
      "york pizza: 6\n",
      "pizza new: 6\n",
      "pizza good: 6\n",
      "york style: 6\n",
      "great pizza.: 5\n",
      "slice pizza: 5\n",
      "pizza really: 5\n",
      "new york.: 5\n",
      "pizza slice: 5\n",
      "pizza place: 5\n",
      "great pizza: 4\n",
      "like pizza: 4\n",
      "good pizza,: 4\n",
      "great pizza,: 4\n",
      "cheese pizza: 4\n",
      "delicious pizza: 4\n",
      "style pizza: 4\n",
      "thin crust: 4\n",
      "piece pizza: 4\n",
      "time square: 4\n",
      "pizza spot: 3\n",
      "white pizza: 3\n",
      "good pizza: 3\n",
      "pizza delicious.: 3\n",
      "style pizza.: 3\n",
      "place eat: 3\n",
      "pizza. delicious: 3\n",
      "hot pizza: 3\n",
      "good place: 3\n",
      "place small: 3\n",
      "pizza thin: 3\n",
      "york slice: 3\n",
      "pizza best: 3\n",
      "institution time: 3\n",
      "new york!: 3\n",
      "new york,: 3\n",
      "time square.: 3\n",
      "york city: 2\n",
      "better pizza: 2\n",
      "pizza delicious: 2\n",
      "quick service: 2\n",
      "best slice: 2\n",
      "slice ever: 2\n",
      "pizza. slice: 2\n",
      "slice whole: 2\n",
      "whole pizza: 2\n"
     ]
    }
   ],
   "source": [
    "print(\"Bigrams for Doc1\")\n",
    "print()\n",
    "top50_bigrams_doc1 = bigram(finalwords_doc1)\n",
    "print()\n",
    "print(\"Bigrams for Doc2\")\n",
    "print()\n",
    "top50_bigrams_doc2 = bigram(finalwords_doc2)\n"
   ]
  },
  {
   "cell_type": "markdown",
   "id": "a7ee1ef2",
   "metadata": {},
   "source": [
    "# top 50 bigrams by their Mutual Information scores \n",
    "\n",
    "The provided code defines a function named `bigram_withMI` that calculates and prints the top 50 bigrams by their Mutual Information (MI) scores in a given list of words. Here's a summary of what the code does:\n",
    "\n",
    "1. The function takes a single argument `words`, which is the list of words for which we want to calculate the top 50 bigrams.\n",
    "2. The `BigramCollocationFinder.from_words()` function is used to create a bigram collocation finder from the words. This generates all possible bigrams from the list of words.\n",
    "3. The `score_ngrams()` method is called on the bigram finder with the `BigramAssocMeasures.mi_like` argument to calculate the Mutual Information (MI) scores for the bigrams.\n",
    "4. The `finder.ngram_fd.items()` generator is used to retrieve the bigram-frequency pairs from the finder.\n",
    "5. The `filtered_bigrams` list comprehension filters the bigrams based on their frequency, keeping only those with a frequency of 5 or higher.\n",
    "6. The bigram scores are sorted in descending order based on the score using the `sorted()` function and a lambda function as the key.\n",
    "7. The sorted list of bigram-score pairs is sliced to retrieve the top 50 pairs using the expression `sorted_bigrams[:50]`.\n",
    "8. The function then iterates over the top 50 bigrams and their scores, printing them in the format: \"word1 word2: score (rounded to 4 decimal places)\".\n",
    "\n",
    "To use this function, you can pass a list of words as an argument, and it will calculate and print the top 50 bigrams by their Mutual Information (MI) scores.\n"
   ]
  },
  {
   "cell_type": "code",
   "execution_count": 78,
   "id": "3fa720fe",
   "metadata": {},
   "outputs": [],
   "source": [
    "from nltk.metrics import BigramAssocMeasures\n",
    "def bigram_withMI(words):\n",
    "    # Generate bigrams\n",
    "    finder = BigramCollocationFinder.from_words(words)\n",
    "\n",
    "    # Calculate Mutual Information (MI) scores\n",
    "    bigram_scores = finder.score_ngrams(BigramAssocMeasures.mi_like)\n",
    "\n",
    "    # Filter bigrams by frequency\n",
    "    filtered_bigrams = [bigram for bigram, freq in finder.ngram_fd.items() if freq >= 5]\n",
    "\n",
    "    # Sort bigrams by their Mutual Information scores in descending order\n",
    "    sorted_bigrams = sorted(bigram_scores, key=lambda x: x[1], reverse=True)\n",
    "\n",
    "    # Extract the top 50 bigrams\n",
    "    top_50_bigrams = sorted_bigrams[:50]\n",
    "\n",
    "    # Print the top 50 bigrams and their Mutual Information scores\n",
    "    for bigram, score in top_50_bigrams:\n",
    "        print(f\"{bigram[0]} {bigram[1]}: {score:.4f}\")"
   ]
  },
  {
   "cell_type": "code",
   "execution_count": 98,
   "id": "cf8a9e83",
   "metadata": {},
   "outputs": [
    {
     "name": "stdout",
     "output_type": "stream",
     "text": [
      "Bigrams with MI for Doc1\n",
      "\n",
      "new york: 16.8919\n",
      "best pizza: 2.8632\n",
      "time square: 1.4545\n",
      "15-minute queue.: 1.0000\n",
      "2dollari cadauna): 1.0000\n",
      "2dollari/cadauna) fate: 1.0000\n",
      "abstatten. diese: 1.0000\n",
      "across country.: 1.0000\n",
      "alike, stand: 1.0000\n",
      "alive. personally,: 1.0000\n",
      "alla grandissima!: 1.0000\n",
      "allright juice: 1.0000\n",
      "already planning: 1.0000\n",
      "amazing!! alot: 1.0000\n",
      "americans. enjoyed: 1.0000\n",
      "amount saltiness,: 1.0000\n",
      "argentina knew: 1.0000\n",
      "arrive hungry: 1.0000\n",
      "attend fast,: 1.0000\n",
      "baked charcoal: 1.0000\n",
      "balance cheese,: 1.0000\n",
      "bar none.: 1.0000\n",
      "barely fit: 1.0000\n",
      "base. miss: 1.0000\n",
      "based tastes,: 1.0000\n",
      "be. obvious: 1.0000\n",
      "became model: 1.0000\n",
      "beeline tradition.: 1.0000\n",
      "beer taken: 1.0000\n",
      "besuch abstatten.: 1.0000\n",
      "bezeichnet werden.: 1.0000\n",
      "birre ghiacciate: 1.0000\n",
      "bite heaven: 1.0000\n",
      "block away: 1.0000\n",
      "bottle water,: 1.0000\n",
      "bryant park.: 1.0000\n",
      "buensima mereci: 1.0000\n",
      "can't believe: 1.0000\n",
      "caprese, white,: 1.0000\n",
      "care much.: 1.0000\n",
      "carrie bradshaw: 1.0000\n",
      "cena alla: 1.0000\n",
      "chain originally: 1.0000\n",
      "charcoal oven,: 1.0000\n",
      "cheesey! margarita: 1.0000\n",
      "cher du: 1.0000\n",
      "chilli fake: 1.0000\n",
      "cities. usually: 1.0000\n",
      "closer dark: 1.0000\n",
      "coda che: 1.0000\n",
      "\n",
      "Bigrams with MI Doc2\n",
      "\n",
      "new york: 16.8919\n",
      "best pizza: 3.1747\n",
      "time square: 1.4545\n",
      "15-minute queue.: 1.0000\n",
      "2dollari cadauna): 1.0000\n",
      "2dollari/cadauna) fate: 1.0000\n",
      "abstatten. diese: 1.0000\n",
      "across country.: 1.0000\n",
      "alike, stand: 1.0000\n",
      "alive. personally,: 1.0000\n",
      "alla grandissima!: 1.0000\n",
      "allright juice: 1.0000\n",
      "already planning: 1.0000\n",
      "amazing!! alot: 1.0000\n",
      "amount saltiness,: 1.0000\n",
      "argentina knew: 1.0000\n",
      "arrive hungry: 1.0000\n",
      "attend fast,: 1.0000\n",
      "baked charcoal: 1.0000\n",
      "balance cheese,: 1.0000\n",
      "bar none.: 1.0000\n",
      "barely fit: 1.0000\n",
      "base. miss: 1.0000\n",
      "based tastes,: 1.0000\n",
      "became model: 1.0000\n",
      "beeline tradition.: 1.0000\n",
      "beer taken: 1.0000\n",
      "besuch abstatten.: 1.0000\n",
      "bezeichnet werden.: 1.0000\n",
      "birre ghiacciate: 1.0000\n",
      "bite heaven: 1.0000\n",
      "block away: 1.0000\n",
      "bottle water,: 1.0000\n",
      "bryant park.: 1.0000\n",
      "buensima mereci: 1.0000\n",
      "busy. buena: 1.0000\n",
      "can't believe: 1.0000\n",
      "caprese, white,: 1.0000\n",
      "care much.: 1.0000\n",
      "carrie bradshaw: 1.0000\n",
      "cena alla: 1.0000\n",
      "chain originally: 1.0000\n",
      "charcoal oven,: 1.0000\n",
      "cheesey! margarita: 1.0000\n",
      "cher du: 1.0000\n",
      "chilli fake: 1.0000\n",
      "cities. usually: 1.0000\n",
      "closer dark: 1.0000\n",
      "coda che: 1.0000\n",
      "cold, reheat: 1.0000\n"
     ]
    }
   ],
   "source": [
    "print(\"Bigrams with MI for Doc1\")\n",
    "print()\n",
    "top50_bigrams_with_MI_doc1 = bigram_withMI(finalwords_doc1)\n",
    "print()\n",
    "print(\"Bigrams with MI Doc2\")\n",
    "print()\n",
    "top50_bigrams_with_MI_doc2 = bigram_withMI(finalwords_doc2)"
   ]
  },
  {
   "cell_type": "markdown",
   "id": "9318ed93",
   "metadata": {},
   "source": [
    "# 2b)\tAre there any problems with the word or bigram lists that you found? Could you get a better list of bigrams? \n",
    "The code  calculates the top 50 bigrams by frequency and the top 50 bigrams by their Mutual Information (MI) scores. These are good approaches to identify important bigrams in the data. However, I could have experimented with different measures for scoring bigrams, such as pointwise mutual information (PMI) or chi-square, to see if they yield better results for my specific analysis"
   ]
  },
  {
   "cell_type": "markdown",
   "id": "365f42e5",
   "metadata": {},
   "source": [
    "# 2c)\tHow are the top 50 bigrams by frequency different from the top 50 bigrams scored by Mutual Information?\n",
    "The top 50 bigrams by frequency and the top 50 bigrams scored by mutual information are different. Here's why:\n",
    "\n",
    "1. Top 50 bigrams by frequency: This refers to the 50 most frequent pairs of consecutive words in the text. These bigrams are determined based on their raw occurrence count. So, the bigrams with the highest count will be considered the most frequent. The frequency-based approach focuses on the sheer occurrence of bigrams, regardless of their significance or contextual relevance.\n",
    "\n",
    "2. Top 50 bigrams scored by Mutual Information: Mutual information is a statistical measure that quantifies the association between two random variables. In this case, mutual information is used to assess the association between words in a bigram. The mutual information score captures the degree of dependence between the two words in a bigram, taking into account the frequency of their individual occurrences and their joint occurrence. It considers the occurrence of the bigram in relation to the expected occurrence based on the individual word frequencies.\n",
    "\n",
    "The difference between the top 50 bigrams by frequency and those scored by mutual information lies in the criteria used to rank them. While frequency-based ranking simply looks at the raw counts, mutual information takes into account the statistical dependency between the words in a bigram. As a result, bigrams with higher mutual information scores may not necessarily be the most frequent, but they are likely to exhibit a stronger association or contextual significance compared to the frequency-based approach.\n",
    "\n",
    "To summarize, the top 50 bigrams by frequency prioritize raw occurrence counts, while the top 50 bigrams scored by mutual information consider the statistical association and relevance of the bigrams. Therefore, the two sets of bigrams are likely to differ in their composition."
   ]
  },
  {
   "cell_type": "markdown",
   "id": "3eea8a66",
   "metadata": {},
   "source": [
    "# d)\tIf you modify the stop word list, or expand the methods of filtering, describe that here.\n",
    "\n",
    "The provided code defines a function filter_stopwords that filters words from a given list based on several conditions as given below (I used alpha filter and stop words filter along with symbols) \n"
   ]
  },
  {
   "cell_type": "markdown",
   "id": "fa6a17db",
   "metadata": {},
   "source": [
    "# 3  Problem: Comparing the style or characteristics between two authors or works based on the difference in the top 50 bigrams by frequency and the top 50 bigrams scored by mutual information.\n",
    "\n",
    "\n",
    "To analyze the texts and answer the problem, let's assume Doc1 and Doc2 represent two different literary works by different authors.\n",
    "\n",
    "1. Comparison of Top 50 Bigrams by Frequency:\n",
    "   - We can observe that both Doc1 and Doc2 share common bigrams such as \"best pizza\" and \"new york,\" indicating a similarity in the topics discussed.\n",
    "   - The occurrence of bigrams like \"joe's pizza,\" \"york style,\" \"slice pizza,\" \"cheese pizza,\" and \"thin crust\" suggests a focus on specific pizza-related details in both documents.\n",
    "   - Doc1 has bigrams like \"time square,\" \"great pizza,\" and \"delicious pizza\" with relatively higher frequencies, indicating an emphasis on the experience and quality of pizza in a particular location.\n",
    "   - Doc2, on the other hand, has bigrams like \"pizza good,\" \"pizza really,\" and \"pizza place\" with higher frequencies, suggesting a focus on overall pizza quality and places to eat.\n",
    "\n",
    "2. Comparison of Top 50 Bigrams scored by Mutual Information:\n",
    "   - Both Doc1 and Doc2 have the same bigrams scored by mutual information, indicating a shared relevance and association between those bigrams and the overall text.\n",
    "   - The bigrams \"new york\" and \"best pizza\" have the highest mutual information scores, implying that these combinations of words are highly informative and characteristic of the texts.\n",
    "   - Additional bigrams like \"time square\" and \"15-minute queue\" also have relatively high mutual information scores, suggesting they contribute to the distinctiveness of the texts.\n",
    "   - The presence of unique bigrams, such as \"15-minute queue,\" \"2dollari cadauna),\" and \"abstatten. diese,\" indicates specific linguistic features or contextual information in each document.\n",
    "\n",
    "Based on this analysis, we can infer the following regarding the style or characteristics of the two literary works:\n",
    "\n",
    "- Both documents share common themes related to pizza and New York.\n",
    "- Doc1 emphasizes the experience and quality of pizza, particularly in Time Square, with references to great and delicious pizza.\n",
    "- Doc2 focuses on the overall goodness of pizza and mentions specific places to eat.\n",
    "- The mutual information scores provide insight into distinctive bigrams that contribute to the unique style and content of each document, potentially indicating differences in tone, language use, or specific details.\n",
    "\n",
    "Overall, this analysis allows us to compare the texts and identify similarities and differences in their style or characteristics based on the top 50 bigrams by frequency and mutual information."
   ]
  },
  {
   "cell_type": "code",
   "execution_count": null,
   "id": "33abbb43",
   "metadata": {},
   "outputs": [],
   "source": []
  }
 ],
 "metadata": {
  "kernelspec": {
   "display_name": "Python 3 (ipykernel)",
   "language": "python",
   "name": "python3"
  },
  "language_info": {
   "codemirror_mode": {
    "name": "ipython",
    "version": 3
   },
   "file_extension": ".py",
   "mimetype": "text/x-python",
   "name": "python",
   "nbconvert_exporter": "python",
   "pygments_lexer": "ipython3",
   "version": "3.11.3"
  }
 },
 "nbformat": 4,
 "nbformat_minor": 5
}
